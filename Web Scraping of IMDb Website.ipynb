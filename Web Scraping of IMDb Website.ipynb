{
 "cells": [
  {
   "cell_type": "markdown",
   "id": "01f9af13",
   "metadata": {},
   "source": [
    "**Web Scraping of IMDb Website**\n",
    "---"
   ]
  },
  {
   "cell_type": "markdown",
   "id": "53bc1dd2",
   "metadata": {},
   "source": [
    "### Introduction\n",
    "---\n",
    "This project entailed scraping the IMDB website to compile data on 100 movies and actors. It examined how movie profitability has evolved over time, investigated the nuanced relationship between a film's popularity and its ratings, and analyzed the impact of experience and talent on winning awards in Hollywood.\n"
   ]
  },
  {
   "cell_type": "markdown",
   "id": "18626838-c1ab-4b4c-92e7-c0eb6a5e519c",
   "metadata": {},
   "source": [
    "### Importing Libraries\n",
    "---"
   ]
  },
  {
   "cell_type": "code",
   "execution_count": 1,
   "id": "2bd3071c-9eeb-442e-8886-8653c3ebd764",
   "metadata": {},
   "outputs": [],
   "source": [
    "import pandas as pd\n",
    "import requests\n",
    "import re\n",
    "import os\n",
    "from bs4 import BeautifulSoup\n",
    "import seaborn as sns\n",
    "import matplotlib.pyplot as plt\n",
    "import matplotlib.ticker as mticker\n",
    "import numpy as np\n",
    "import matplotlib.font_manager as fm\n",
    "import matplotlib as mpl\n",
    "import warnings"
   ]
  },
  {
   "cell_type": "code",
   "execution_count": 2,
   "id": "7ff51b3c",
   "metadata": {},
   "outputs": [],
   "source": [
    "warnings.filterwarnings(\"ignore\")"
   ]
  },
  {
   "cell_type": "markdown",
   "id": "79c05f38-8b93-44e1-84a7-f3c7baa66118",
   "metadata": {},
   "source": [
    "### URL Movies\n",
    "---"
   ]
  },
  {
   "cell_type": "code",
   "execution_count": 3,
   "id": "89b2a268-5704-4dec-8c03-bad805c23883",
   "metadata": {},
   "outputs": [],
   "source": [
    "# Comedy\n",
    "urls = ['https://www.imdb.com/title/tt0089218/?ref_=sr_t_1',\n",
    "        'https://www.imdb.com/title/tt0088763/?ref_=sr_t_2',\n",
    "        'https://www.imdb.com/title/tt0093779/?ref_=sr_t_3',\n",
    "        'https://www.imdb.com/title/tt0097165/?ref_=sr_t_4',\n",
    "        'https://www.imdb.com/title/tt0094721/?ref_=sr_t_5',\n",
    "        'https://www.imdb.com/title/tt0099785/?ref_=sr_t_7',\n",
    "        'https://www.imdb.com/title/tt0099938/?ref_=sr_t_7',\n",
    "        'https://www.imdb.com/title/tt0100758/?ref_=sr_t_4',\n",
    "        'https://www.imdb.com/title/tt0099422/?ref_=sr_t_9',\n",
    "        'https://www.imdb.com/title/tt0100140/?ref_=sr_t_10',\n",
    "        'https://www.imdb.com/title/tt0250494/?ref_=sr_t_7',\n",
    "        'https://www.imdb.com/title/tt1119646/?ref_=sr_t_12',\n",
    "        'https://www.imdb.com/title/tt0382932/?ref_=sr_t_16',\n",
    "        'https://www.imdb.com/title/tt0381707/?ref_=sr_t_4',\n",
    "        'https://www.imdb.com/title/tt0198781/?ref_=sr_t_42'\n",
    "        'https://www.imdb.com/title/tt7131622/?ref_=sr_t_1',\n",
    "        'https://www.imdb.com/title/tt0993846/?ref_=sr_t_2',\n",
    "        'https://www.imdb.com/title/tt4633694/?ref_=sr_t_28',\n",
    "        'https://www.imdb.com/title/tt2283362/?ref_=sr_t_49',\n",
    "        'https://www.imdb.com/title/tt3521164/?ref_=sr_t_8',\n",
    "        'https://www.imdb.com/title/tt6139732/?ref_=sr_t_37',\n",
    "        'https://www.imdb.com/title/tt6263850/?ref_=sr_t_16',\n",
    "        'https://www.imdb.com/title/tt1517268/?ref_=sr_t_33',\n",
    "        'https://www.imdb.com/title/tt7510222/?ref_=sr_t_59',\n",
    "        'https://www.imdb.com/title/tt2049403/?ref_=sr_t_29',\n",
    "        'https://www.imdb.com/title/tt6718170/?ref_=sr_t_75',\n",
    "        # Horror\n",
    "        'https://www.imdb.com/title/tt23289160/?ref_=sr_t_1',\n",
    "        'https://www.imdb.com/title/tt8332922/?ref_=sr_t_6',\n",
    "        'https://www.imdb.com/title/tt5040012/?ref_=sr_t_3',\n",
    "        'https://www.imdb.com/title/tt17526714/?ref_=sr_t_4',\n",
    "        'https://www.imdb.com/title/tt9764362/?ref_=sr_t_5',\n",
    "        'https://www.imdb.com/title/tt3416742/?ref_=sr_t_6',\n",
    "        'https://www.imdb.com/title/tt2545118/?ref_=sr_t_2',\n",
    "        'https://www.imdb.com/title/tt7914416/?ref_=sr_t_7',\n",
    "        'https://www.imdb.com/title/tt5052448/?ref_=sr_t_4',\n",
    "        'https://www.imdb.com/title/tt5700672/?ref_=sr_t_5',\n",
    "        'https://www.imdb.com/title/tt0365748/?ref_=sr_t_1',\n",
    "        'https://www.imdb.com/title/tt1139797/?ref_=sr_t_2',\n",
    "        'https://www.imdb.com/title/tt0144084/?ref_=sr_t_3',\n",
    "        'https://www.imdb.com/title/tt0230600/?ref_=sr_t_4',\n",
    "        'https://www.imdb.com/title/tt0387564/?ref_=sr_t_5',\n",
    "        'https://www.imdb.com/title/tt0110148/?ref_=sr_t_1',\n",
    "        'https://www.imdb.com/title/tt0109506/?ref_=sr_t_2',\n",
    "        'https://www.imdb.com/title/tt0117571/?ref_=sr_t_6',\n",
    "        'https://www.imdb.com/title/tt0103873/?ref_=sr_t_4',\n",
    "        'https://www.imdb.com/title/tt0103874/?ref_=sr_t_5',\n",
    "        'https://www.imdb.com/title/tt0082010/?ref_=sr_t_7',\n",
    "        'https://www.imdb.com/title/tt0081505/?ref_=sr_t_2',\n",
    "        'https://www.imdb.com/title/tt0091064/?ref_=sr_t_6',\n",
    "        'https://www.imdb.com/title/tt0093773/?ref_=sr_t_4',\n",
    "        'https://www.imdb.com/title/tt0092991/?ref_=sr_t_5',\n",
    "        # Action\n",
    "        'https://www.imdb.com/title/tt0095016/?ref_=ls_t_1',\n",
    "        'https://www.imdb.com/title/tt0082971/?ref_=ls_t_2',\n",
    "        'https://www.imdb.com/title/tt0087469/?ref_=ls_t_3',\n",
    "        'https://www.imdb.com/title/tt0097576/?ref_=ls_t_4',\n",
    "        'https://www.imdb.com/title/tt0082694/?ref_=ls_t_7',\n",
    "        'https://www.imdb.com/title/tt0103064/?ref_=ls_t_1',\n",
    "        'https://www.imdb.com/title/tt0102685/?ref_=ls_t_2',\n",
    "        'https://www.imdb.com/title/tt0117500/?ref_=ls_t_3',\n",
    "        'https://www.imdb.com/title/tt0111257/?ref_=ls_t_4',\n",
    "        'https://www.imdb.com/title/tt0100802/?ref_=ls_t_5',\n",
    "        'https://www.imdb.com/title/tt0325980/?ref_=ls_t_1',\n",
    "        'https://www.imdb.com/title/tt0468569/?ref_=ls_t_2',\n",
    "        'https://www.imdb.com/title/tt0381061/?ref_=ls_t_3',\n",
    "        'https://www.imdb.com/title/tt0258463/?ref_=ls_t_4',\n",
    "        'https://www.imdb.com/title/tt0372183/?ref_=ls_t_5',\n",
    "        'https://www.imdb.com/title/tt1229238/?ref_=ls_t_6',\n",
    "        'https://www.imdb.com/title/tt1074638/?ref_=ls_t_2',\n",
    "        'https://www.imdb.com/title/tt2911666/?ref_=ls_t_3',\n",
    "        'https://www.imdb.com/title/tt4425200/?ref_=ls_t_4',\n",
    "        'https://www.imdb.com/title/tt6146586/?ref_=ls_t_5',\n",
    "        'https://www.imdb.com/title/tt1745960/?ref_=ls_t_1',\n",
    "        'https://www.imdb.com/title/tt6499752/?ref_=ls_t_2',\n",
    "        'https://www.imdb.com/title/tt4912910/?ref_=ls_t_3',\n",
    "        'https://www.imdb.com/title/tt2406566/?ref_=ls_t_3',\n",
    "        'https://www.imdb.com/title/tt2381249/?ref_=ls_t_6',\n",
    "        # Thriller\n",
    "        'https://www.imdb.com/title/tt0094226/',\n",
    "        'https://www.imdb.com/title/tt0090605/?ref_=sr_t_37',\n",
    "        'https://www.imdb.com/title/tt1345836/?ref_=sr_t_3',\n",
    "        'https://www.imdb.com/title/tt0114369/?ref_=sr_t_4',\n",
    "        'https://www.imdb.com/title/tt0102926/?ref_=sr_t_5',\n",
    "        'https://www.imdb.com/title/tt7286456/?ref_=sr_t_6',\n",
    "        'https://www.imdb.com/title/tt1130884/?ref_=sr_t_7',\n",
    "        'https://www.imdb.com/title/tt0482571/?ref_=sr_t_8',\n",
    "        'https://www.imdb.com/title/tt2980592/?ref_=nm_flmg_knf_t_3',\n",
    "        'https://www.imdb.com/title/tt0209144/?ref_=sr_t_10',\n",
    "        'https://www.imdb.com/title/tt0110413/?ref_=sr_t_11',\n",
    "        'https://www.imdb.com/title/tt0266697/?ref_=sr_t_12',\n",
    "        'https://www.imdb.com/title/tt0434409/?ref_=sr_t_13',\n",
    "        'https://www.imdb.com/title/tt0114814/',\n",
    "        'https://www.imdb.com/title/tt1392190/?ref_=sr_t_15',\n",
    "        'https://www.imdb.com/title/tt0105236/?ref_=sr_t_16',\n",
    "        'https://www.imdb.com/title/tt2267998/?ref_=sr_t_17',\n",
    "        'https://www.imdb.com/title/tt0477348/?ref_=sr_t_18',\n",
    "        'https://www.imdb.com/title/tt0107290/?ref_=sr_t_19',\n",
    "        'https://www.imdb.com/title/tt14858658/?ref_=fn_all_ttl_1',\n",
    "        'https://www.imdb.com/title/tt6751668/?ref_=sr_t_21',\n",
    "        'https://www.imdb.com/title/tt1392170/?ref_=sr_t_22',\n",
    "        'https://www.imdb.com/title/tt26753003/',\n",
    "        'https://www.imdb.com/title/tt1843866/?ref_=sr_t_24',\n",
    "        'https://www.imdb.com/title/tt3315342/?ref_=sr_t_25']\n",
    "\n",
    "\n",
    "headers = {'User-Agent': 'Mozilla/5.0'}"
   ]
  },
  {
   "cell_type": "markdown",
   "id": "05f5dbfe",
   "metadata": {},
   "source": [
    "The project was designed with flexibility in mind, allowing for easy updates when needed. To streamline the process and avoid extracting movie data from multiple sections of the website, focus was placed on genre-organized webpages to gather all the necessary information. The dataset of 100 movies was compiled using 25 links from each genre—Comedy, Horror, Action, and Thriller. If additional data is required, simply add the corresponding link above."
   ]
  },
  {
   "cell_type": "markdown",
   "id": "3f469941-835a-41f3-ae97-c443b907f1b8",
   "metadata": {},
   "source": [
    "### Retrieving Data - Movies\n",
    "---"
   ]
  },
  {
   "cell_type": "code",
   "execution_count": 4,
   "id": "a5cf53c5-e12e-4a16-b6a6-68bd30662c13",
   "metadata": {},
   "outputs": [],
   "source": [
    "names = []\n",
    "release_year = []\n",
    "rating = []\n",
    "duration = []\n",
    "imdb_rating = []\n",
    "popularity = []\n",
    "genre_tags = []\n",
    "star_actors = []\n",
    "nominations = []\n",
    "award_wins = []\n",
    "budget = []\n",
    "gross_worldwide = []\n",
    "\n",
    "for url in urls:\n",
    "    response = requests.get(url, headers=headers)\n",
    "    soup = BeautifulSoup(response.text, 'lxml')\n",
    "    name_1 = soup.title.string.strip()\n",
    "    name_2 = name_1.split(\" (\")[0]\n",
    "    names.append(name_2)\n",
    "\n",
    "    release_year_1 = soup.title.string.strip()\n",
    "    release_year_2 = re.search(r'\\(([^)]+)\\)', release_year_1)\n",
    "    release_year.append(release_year_2.group(1) if release_year_2 else 'NA')\n",
    "\n",
    "    rating_1 = soup.find('meta', property='og:description')\n",
    "    if rating_1 and rating_1.get('content'):\n",
    "        rating_2 = rating_1['content'].split('|')[-1].strip()\n",
    "        rating.append(rating_2)\n",
    "\n",
    "    duration_1 = soup.find('meta', property='og:description')\n",
    "    if duration_1 and duration_1.get('content'):\n",
    "        duration_2 = duration_1['content'].split('|')[0].strip()\n",
    "        duration.append(duration_2)\n",
    "\n",
    "    imdb_rating_1 = soup.find('meta', property='og:title')\n",
    "    if imdb_rating_1 and imdb_rating_1.get('content'):\n",
    "        imdb_rating_2 = imdb_rating_1['content'].split('|')[0].strip()\n",
    "        imdb_rating_3 = imdb_rating_2.split('⭐')[-1].strip()\n",
    "        imdb_rating.append(imdb_rating_3)\n",
    "\n",
    "    popularity_1 = soup.find('div', class_='sc-39d285cf-1 dxqvqi')\n",
    "    if popularity_1:\n",
    "        popularity_2 = popularity_1.get_text(strip=True)\n",
    "    else:\n",
    "        popularity_2 = \"None\"\n",
    "    popularity.append(popularity_2)\n",
    "\n",
    "    genre_tags_1 = soup.find_all('span', class_='ipc-chip__text')[:3]\n",
    "    genre_tags_2 = \", \".join(genre_tags_3.get_text(strip=True)\n",
    "                             for genre_tags_3 in genre_tags_1)\n",
    "    genre_tags.append(genre_tags_2)\n",
    "\n",
    "    actors_1 = soup.find('meta', attrs={'name': 'description'})\n",
    "    if actors_1 and actors_1.get('content'):\n",
    "        actors_2 = actors_1['content'].split(\"With\", 1)[1].split(\".\", 1)[0]\n",
    "        actors_3 = \", \".join([actors_2.strip()\n",
    "                             for actors_2 in actors_2.split(\",\")][:3])\n",
    "        star_actors.append(actors_3)\n",
    "\n",
    "    nomination_1 = soup.find(\n",
    "        'span', attrs={'class': 'ipc-metadata-list-item__list-content-item'})\n",
    "    nomination_2 = nomination_1.get_text(strip=True) if nomination_1 else \"\"\n",
    "    nomination_3 = nomination_2.split(\"&\")[1].split()[\n",
    "        0] if \"&\" in nomination_2 else \"\"\n",
    "    nominations.append(nomination_3)\n",
    "\n",
    "    award_win_1 = soup.find(\n",
    "        'span', attrs={'class': 'ipc-metadata-list-item__list-content-item'})\n",
    "    award_win_2 = award_win_1.get_text(strip=True) if award_win_1 else \"\"\n",
    "    award_win_3 = award_win_2.split(\"&\")[0].strip().split()[\n",
    "        0] if \"&\" in award_win_2 else \"\"\n",
    "    award_wins.append(award_win_3)\n",
    "\n",
    "    budget_1 = soup.find(\n",
    "        'span', class_='ipc-metadata-list-item__label', string=\"Budget\")\n",
    "    if budget_1:\n",
    "        budget_2 = budget_1.find_next(\n",
    "            string=lambda t: t and t.strip() and t.strip()[0] in \"$€£¥\")\n",
    "        budget_3 = budget_2.strip() if budget_2 else \"\"\n",
    "    else:\n",
    "        budget_3 = \"\"\n",
    "    budget.append(budget_3)\n",
    "\n",
    "    gross_worldwide_1 = soup.find(\n",
    "        'span', class_='ipc-metadata-list-item__label', string=\"Gross worldwide\")\n",
    "    if gross_worldwide_1:\n",
    "        gross_worldwide_2 = gross_worldwide_1.find_next(\n",
    "            string=lambda t: t and t.strip().startswith('$'))\n",
    "        gross_worldwide_3 = gross_worldwide_2.strip() if gross_worldwide_2 else \"\"\n",
    "    else:\n",
    "        gross_worldwide_3 = \"\"\n",
    "    gross_worldwide.append(gross_worldwide_3)"
   ]
  },
  {
   "cell_type": "markdown",
   "id": "ab4eba73",
   "metadata": {},
   "source": [
    "After retrieving data from the provided links, empty lists were initialized for each movie feature. Then, a for loop iterates over each movie URL, employing BeautifulSoup to extract and update the corresponding feature list. The \"response\" line sends an HTTP GET request to the URL, while \"soup\" parses the returned text using the 'lxml' parser. These two lines, defined once at the beginning, are utilized for all features. Inspection of each URL allowed for the identification of the specific tags and attributes containing the necessary content.\n",
    "\n",
    "- For the movie names, the code retrieves the text from the webpage's title tag, splits it at the sequence \" (\" to separate the name from any additional information, and takes the first element. It then appends this extracted name to the names list. \n",
    "\n",
    "- For the release year, the code first retrieves and trims the text from the title tag. It then uses a regular expression to find any text enclosed in parentheses. If a match is found, .group(1) extracts the content inside the parentheses, which is then appended to the release_year list.\n",
    "\n",
    "- For both rating and duration, the code locates the first meta tag with the attribute 'og:description' using the find method, then checks if a content attribute exists. If it does, it extracts the string from content, splits it by the pipe (|) character, and selects either the last element (for rating) or the first element (for duration) after trimming any whitespace. The resulting value is then added to the corresponding list.\n",
    "\n",
    "- For the IMDb rating, the code finds the meta tag with og:title, checks for a content attribute, then extracts the content string. It splits the string at the pipe (|), takes the first segment (after trimming), then splits that segment by the star symbol and takes the last element. This final value is appended to the IMDb rating list. \n",
    "\n",
    "- For popularity, the code locates the first div element with the class 'sc-39d285cf-1 dxqvqi'. If found, it extracts and trims its text content and appends that value to the popularity list.\n",
    "\n",
    "- For the genres tag, the code first finds all span elements with the class 'ipc-chip__text' and selects the first three. It then extracts and trims the text from each element, joins them into a single comma-separated string, and appends this string to the list.\n",
    "\n",
    "- For the actors, the code first locates the meta tag with the name \"description\" and ensures it has a content attribute. It then splits this content at the first occurrence of \"With\", and further splits the resulting string at the first period, taking the part before the period. This substring is then split by commas to extract individual actor names. The code trims each name, selects the first three, joins them into a single comma-separated string, and appends that string to the list.\n",
    "\n",
    "- For both nominations and award wins, the code finds the first span element with the class 'ipc-metadata-list-item__list-content-item' and extracts the trimmed text. It then splits the text at the \"&\" character—selecting the second segment for nominations and the first for award wins—further splits that segment by whitespace, and takes the first word. The resulting value is appended to the respective list.\n",
    "\n",
    "- For the budget code, it locates the span element with the class ipc-metadata-list-item__label whose content exactly matches \"Budget\". It then searches for the next string that is non-empty and starts with a currency symbol (one of \"$€£¥\"), trims any whitespace, and assigns the value to budget_3. The value is appended to the budget list.\n",
    "\n",
    "- For the gross worldwide value, the code first locates the span element with the class ipc-metadata-list-item__label that exactly matches \"Gross worldwide\". It then finds the next text node whose stripped content starts with a dollar sign, trims any extra whitespace, and appends the result to the gross_worldwide list.\n"
   ]
  },
  {
   "cell_type": "markdown",
   "id": "5496c817-a1ac-499c-bd61-2d52fd1a9b7b",
   "metadata": {},
   "source": [
    "### Creating DataFrame - Movies\n",
    "---"
   ]
  },
  {
   "cell_type": "code",
   "execution_count": 5,
   "id": "cd5d72f0-74ed-4124-b507-4fed5b30c7fb",
   "metadata": {},
   "outputs": [],
   "source": [
    "df_movies = pd.DataFrame({'movie': names, 'release_year': release_year, 'rating': rating, 'duration': duration,\n",
    "                          'imdb_rating': imdb_rating, 'popularity': popularity, 'genre_tags': genre_tags,\n",
    "                          'star_actors': star_actors, 'nominations': nominations, 'award_wins': award_wins, 'estimated_budget': budget, 'gross_worldwide': gross_worldwide})"
   ]
  },
  {
   "cell_type": "code",
   "execution_count": 6,
   "id": "5b7a386e-a5a5-4f3e-9dbd-4a34e1d9818a",
   "metadata": {},
   "outputs": [
    {
     "name": "stdout",
     "output_type": "stream",
     "text": [
      "<class 'pandas.core.frame.DataFrame'>\n",
      "RangeIndex: 100 entries, 0 to 99\n",
      "Data columns (total 17 columns):\n",
      " #   Column            Non-Null Count  Dtype \n",
      "---  ------            --------------  ----- \n",
      " 0   movie             100 non-null    object\n",
      " 1   release_year      100 non-null    object\n",
      " 2   rating            100 non-null    object\n",
      " 3   duration          100 non-null    object\n",
      " 4   imdb_rating       100 non-null    object\n",
      " 5   popularity        100 non-null    object\n",
      " 6   nominations       100 non-null    object\n",
      " 7   award_wins        100 non-null    object\n",
      " 8   estimated_budget  100 non-null    object\n",
      " 9   gross_worldwide   100 non-null    object\n",
      " 10  genre             100 non-null    object\n",
      " 11  genre_tags_1      100 non-null    object\n",
      " 12  genre_tags_2      100 non-null    object\n",
      " 13  genre_tags_3      100 non-null    object\n",
      " 14  star_actors_1     100 non-null    object\n",
      " 15  star_actors_2     99 non-null     object\n",
      " 16  star_actors_3     98 non-null     object\n",
      "dtypes: object(17)\n",
      "memory usage: 13.4+ KB\n"
     ]
    }
   ],
   "source": [
    "df_movies.loc[:24, 'genre'] = 'Comedy'\n",
    "df_movies.loc[25:49, 'genre'] = 'Horror'\n",
    "df_movies.loc[50:74, 'genre'] = 'Action'\n",
    "df_movies.loc[75:99, 'genre'] = 'Thriller'\n",
    "df_movies[['genre_tags_1', 'genre_tags_2', 'genre_tags_3']\n",
    "          ] = df_movies['genre_tags'].str.split(',', expand=True)\n",
    "df_movies[['star_actors_1', 'star_actors_2', 'star_actors_3']\n",
    "          ] = df_movies['star_actors'].str.split(',', expand=True)\n",
    "df_movies['estimated_budget'] = df_movies['estimated_budget'].str.replace(\n",
    "    r'\\s*\\(estimated\\)', '', regex=True)\n",
    "df_movies = df_movies.drop(['genre_tags', 'star_actors'], axis=1)\n",
    "df_movies.info()"
   ]
  },
  {
   "cell_type": "markdown",
   "id": "511ee83a",
   "metadata": {},
   "source": [
    "After assembling lists for each feature, a dataframe was constructed with these features as columns. The .loc[] function was then employed to assign specific genres to each block of movies. Since the genres and actors were originally concatenated into single strings, they were split into separate columns. For the estimated budget, the term \"estimated\" was removed to focus solely on numeric values. Finally, the original genre and star actors columns were dropped after the split."
   ]
  },
  {
   "cell_type": "markdown",
   "id": "e0f9d0d8-bb06-4114-98ee-6de385ea78c6",
   "metadata": {},
   "source": [
    "### URL Actors\n",
    "---"
   ]
  },
  {
   "cell_type": "code",
   "execution_count": 7,
   "id": "a4c4b4f0-62ce-4f1e-b136-792c83bf28a5",
   "metadata": {},
   "outputs": [],
   "source": [
    "# Comedy\n",
    "urls_actors = ['https://www.imdb.com/name/nm0000276/?ref_=nv_sr_srsg_0_tt_0_nm_8_in_0_q_Sean%2520Astin',\n",
    "               'https://www.imdb.com/name/nm0000150/?ref_=nv_sr_srsg_0_tt_0_nm_8_in_0_q_Michael%2520J',\n",
    "               'https://www.imdb.com/name/nm0000144/?ref_=nv_sr_srsg_0_tt_1_nm_7_in_0_q_Cary%2520Elwes',\n",
    "               'https://www.imdb.com/name/nm0000245/?ref_=nv_sr_srsg_0_tt_5_nm_3_in_0_q_Robin%2520Williams',\n",
    "               'https://www.imdb.com/name/nm0000285/?ref_=nv_sr_srsg_0_tt_6_nm_2_in_0_q_Alec%2520Baldwin',\n",
    "               'https://www.imdb.com/name/nm0000346/?ref_=nv_sr_srsg_0_tt_4_nm_1_in_0_q_Macaulay%2520Culkin',\n",
    "               'https://www.imdb.com/name/nm0000216/?ref_=nv_sr_srsg_0_tt_6_nm_2_in_0_q_Arnold%2520Schwarzenegger',\n",
    "               'https://www.imdb.com/name/nm0387432/?ref_=nv_sr_srsg_0_tt_1_nm_7_in_0_q_Judith%2520Hoag',\n",
    "               'https://www.imdb.com/name/nm0000886/?ref_=nv_sr_srsg_0_tt_1_nm_7_in_0_q_Warren%2520Beatty',\n",
    "               'https://www.imdb.com/name/nm0000333/?ref_=nv_sr_srsg_0_tt_2_nm_6_in_0_q_Cher',\n",
    "               'https://www.imdb.com/name/nm0000702/?ref_=nv_sr_srsg_0_tt_7_nm_1_in_0_q_Reese%2520Witherspoon',\n",
    "               'https://www.imdb.com/name/nm0177896/?ref_=nv_sr_srsg_0_tt_2_nm_6_in_0_q_%2509Bradley%2520Cooper',\n",
    "               'https://www.imdb.com/name/nm0652663/?ref_=nv_sr_srsg_0_tt_7_nm_1_in_0_q_Patton%2520Oswalt',\n",
    "               'https://www.imdb.com/name/nm0915465/?ref_=nv_sr_srsg_0_tt_0_nm_8_in_0_q_Shawn%2520Wayans',\n",
    "               'https://www.imdb.com/name/nm0000422/?ref_=nv_sr_srsg_0_tt_3_nm_5_in_0_q_John%2520Goodman',\n",
    "               'https://www.imdb.com/name/nm0000138/?ref_=nv_sr_srsg_0_tt_7_nm_1_in_0_q_Leonardo%2520DiCaprio',\n",
    "               'https://www.imdb.com/name/nm4271336/?ref_=nv_sr_srsg_0_tt_4_nm_2_in_0_q_Shameik%2520Moore',\n",
    "               'https://www.imdb.com/name/nm0425005/?ref_=nv_sr_srsg_0_tt_3_nm_5_in_0_q_Dwayne%2520Johnson',\n",
    "               'https://www.imdb.com/name/nm7635388/?ref_=nv_sr_srsg_0_tt_3_nm_5_in_0_q_Auli%27i%2520Cravalho',\n",
    "               'https://www.imdb.com/name/nm0000226/?ref_=nv_sr_srsg_1_tt_4_nm_3_in_0_q_Will%2520Smith',\n",
    "               'https://www.imdb.com/name/nm0005351/?ref_=nv_sr_srsg_0_tt_4_nm_4_in_0_q_Ryan%2520Reynolds',\n",
    "               'https://www.imdb.com/name/nm3053338/?ref_=nv_sr_srsg_0_tt_7_nm_1_in_0_q_Margot%2520Robbie',\n",
    "               'https://www.imdb.com/name/nm0136797/?ref_=nv_sr_srsg_0_tt_6_nm_2_in_0_q_Steve%2520Carell',\n",
    "               'https://www.imdb.com/name/nm0000474/?ref_=nv_sr_srsg_0_tt_2_nm_6_in_0_q_Michael%2520Keaton',\n",
    "               'https://www.imdb.com/name/nm0724656/?ref_=nv_sr_srsg_0_tt_0_nm_8_in_0_q_Kevin%2520Michael%2520Richardson',\n",
    "               # Horror\n",
    "               'https://www.imdb.com/name/nm4947538/?ref_=fn_all_nme_1',\n",
    "               'https://www.imdb.com/name/nm8075925/?ref_=nv_sr_srsg_0_tt_0_nm_1_in_0_q_Millicent%2520Simmonds',\n",
    "               'https://www.imdb.com/name/nm6675440/?ref_=fn_all_nme_1',\n",
    "               'https://www.imdb.com/name/nm11670318/?ref_=nv_sr_srsg_4_tt_4_nm_3_in_0_q_Demi%2520Moore',\n",
    "               'https://www.imdb.com/name/nm0000146/?ref_=nv_sr_srsg_1_tt_3_nm_4_in_0_q_Ralph%2520Fiennes',\n",
    "               'https://www.imdb.com/name/nm1318596/?ref_=nv_sr_srsg_0_tt_2_nm_6_in_0_q_Jemaine%2520Clement%2509',\n",
    "               'https://www.imdb.com/name/nm5747280/?ref_=nv_sr_srsg_0_tt_5_nm_3_in_0_q_Tilikum',\n",
    "               'https://www.imdb.com/name/nm9576872/?ref_=nv_sr_srsg_0_tt_0_nm_8_in_0_q_Takayuki%2520Hamatsu',\n",
    "               'https://www.imdb.com/name/nm2257207/?ref_=nv_sr_srsg_1_tt_0_nm_6_in_0_q_Daniel%2520Kaluuya',\n",
    "               'https://www.imdb.com/name/nm1508003/?ref_=nv_sr_srsg_0_tt_3_nm_5_in_0_q_Gong%2520Yoo',\n",
    "               'https://www.imdb.com/name/nm0670408/?ref_=fn_all_nme_1',\n",
    "               'https://www.imdb.com/name/nm2968765/?ref_=nv_sr_srsg_0_tt_0_nm_1_in_0_q_K%25C3%25A5re%2520Hedebrant%2509Lina%2520',\n",
    "               'https://www.imdb.com/name/nm0524197/?ref_=nv_sr_srsg_0_tt_1_nm_7_in_0_q_Josh%2520Lucas',\n",
    "               'https://www.imdb.com/name/nm0001172/?ref_=nv_sr_srsg_0_tt_3_nm_5_in_0_q_Christopher%2520Eccleston',\n",
    "               'https://www.imdb.com/name/nm1191481/?ref_=nv_sr_srsg_0_tt_2_nm_2_in_0_q_Leigh%2520Whannell',\n",
    "               'https://www.imdb.com/name/nm0566114/?ref_=nv_sr_srsg_0_tt_0_nm_6_in_0_q_Virginia%2520McCollam',\n",
    "               'https://www.imdb.com/name/nm0000488/?ref_=nv_sr_srsg_0_tt_0_nm_8_in_0_q_brandon%2520lee',\n",
    "               'https://www.imdb.com/name/nm0413996/?ref_=nv_sr_srsg_0_tt_0_nm_8_in_0_q_Roger%2520Jackson',\n",
    "               'https://www.imdb.com/name/nm0050975/?ref_=nv_sr_srsg_0_tt_0_nm_8_in_0_q_Timothy%2520Balme',\n",
    "               'https://www.imdb.com/name/nm0000198/?ref_=nv_sr_srsg_1_tt_2_nm_5_in_0_q_Gary%2520Oldman',\n",
    "               'https://www.imdb.com/name/nm0001162/?ref_=nv_sr_srsg_0_tt_0_nm_8_in_0_q_Griffin%20Dunne',\n",
    "               'https://www.imdb.com/name/nm0001167/?ref_=nv_sr_srsg_0_tt_7_nm_1_in_0_q_Shelley%2520Duvall',\n",
    "               'https://www.imdb.com/name/nm0000156/?ref_=nv_sr_srsg_0_tt_6_nm_2_in_0_q_Jeff%2520Goldblum',\n",
    "               'https://www.imdb.com/name/nm0001990/?ref_=nv_sr_srsg_0_tt_0_nm_8_in_0_q_Elpidia%2520Carrillo',\n",
    "               'https://www.imdb.com/name/nm0132257/?ref_=nv_sr_srsg_0_tt_1_nm_7_in_0_q_Bruce%2520Campbell',\n",
    "               # Action\n",
    "               'https://www.imdb.com/name/nm0000889/?ref_=nv_sr_srsg_3_tt_1_nm_7_in_0_q_bonnie',\n",
    "               'https://www.imdb.com/name/nm0000148/?ref_=nv_sr_srsg_0_tt_4_nm_4_in_0_q_Harrison%2520Ford',\n",
    "               'https://www.imdb.com/name/nm0293550/?ref_=fn_all_nme_1',\n",
    "               'https://www.imdb.com/name/nm0000261/?ref_=nv_sr_srsg_0_tt_1_nm_7_in_0_q_Karen%2520Allen',\n",
    "               'https://www.imdb.com/name/nm0702841/?ref_=nv_sr_srsg_0_tt_6_nm_2_in_0_q_Ke%2520Huy%2520Quan',\n",
    "               'https://www.imdb.com/name/nm0000125/',\n",
    "               'https://www.imdb.com/name/nm0817748/?ref_=ls_li_2',\n",
    "               'https://www.imdb.com/name/nm0000157/?ref_=fn_all_nme_1',\n",
    "               'https://www.imdb.com/name/nm0000411/?ref_=nv_sr_srsg_0_tt_7_nm_1_in_0_q_%2520%2520%2520%2520%27Edward%2520Furlong%27',\n",
    "               'https://www.imdb.com/name/nm0000997/?ref_=fn_all_nme_1',\n",
    "               'https://www.imdb.com/name/nm0000115/?ref_=nv_sr_srsg_0_tt_7_nm_1_in_0_q_Nicolas%2520Cage',\n",
    "               'https://www.imdb.com/name/nm0000232/?ref_=nv_sr_srsg_0_tt_6_nm_2_in_0_q_Sharon%2520Stone',\n",
    "               'https://www.imdb.com/name/nm0001691/?ref_=nv_sr_srsg_0_tt_6_nm_2_in_0_q_Geoffrey%2520Rush',\n",
    "               'https://www.imdb.com/name/nm0089217/?ref_=fn_all_nme_1',\n",
    "               'https://www.imdb.com/name/nm0005132/?ref_=fn_all_nme_1',\n",
    "               'https://www.imdb.com/name/nm0001173/?ref_=fn_all_nme_1',\n",
    "               'https://www.imdb.com/name/nm1200692/?ref_=nv_sr_srsg_0_tt_0_nm_8_in_0_q_Eva%2520Green',\n",
    "               'https://www.imdb.com/name/nm0586568/?ref_=nv_sr_srsg_0_tt_3_nm_5_in_0_q_Mads%2520Mikkelsen',\n",
    "               'https://www.imdb.com/name/nm0004376/?ref_=nv_sr_srsg_0_tt_1_nm_4_in_0_q_Franka%2520Potente%2509',\n",
    "               'https://www.imdb.com/name/nm0177933/?ref_=nv_sr_srsg_0_tt_1_nm_7_in_0_q_Chris%2520Cooper',\n",
    "               'https://www.imdb.com/name/nm0000129/?ref_=nv_sr_srsg_0_tt_5_nm_3_in_0_q_Tom%20Cruise%09',\n",
    "               'https://www.imdb.com/name/nm0001132/?ref_=fn_all_nme_1',\n",
    "               'https://www.imdb.com/name/nm0638824/?ref_=nv_sr_srsg_0_tt_1_nm_1_in_0_q_Michael%2520Nyqvist',\n",
    "               'https://www.imdb.com/name/nm1249052/?ref_=nv_sr_srsg_0_tt_0_nm_1_in_0_q_Riccardo%2520Scamarcio%2509',\n",
    "               'https://www.imdb.com/name/nm0000932/?ref_=nv_sr_srsg_1_tt_2_nm_5_in_0_q_Halle%2520Berry',\n",
    "               # Thriller\n",
    "               'https://www.imdb.com/name/nm0000126/?ref_=tt_ov_st_1',\n",
    "               'https://www.imdb.com/name/nm0000244/?ref_=tt_ov_st_1',\n",
    "               'https://www.imdb.com/name/nm0000288/?ref_=tt_ov_st_1',\n",
    "               'https://www.imdb.com/name/nm0000151/?ref_=tt_ov_st_1',\n",
    "               'https://www.imdb.com/name/nm0000149/?ref_=tt_ov_st_1',\n",
    "               'https://www.imdb.com/name/nm0001618/?ref_=tt_ov_st_1',\n",
    "               'https://www.imdb.com/name/nm0607865/?ref_=tt_ov_st_2',\n",
    "               'https://www.imdb.com/name/nm0000323/?ref_=ttfc_fc_cl_t3',\n",
    "               'https://www.imdb.com/name/nm2140860/?ref_=tt_ov_st_1',\n",
    "               'https://www.imdb.com/name/nm0001602/?ref_=tt_ov_st_1',\n",
    "               'https://www.imdb.com/name/nm0000606/?ref_=tt_ov_st_1',\n",
    "               'https://www.imdb.com/name/nm0000235/?ref_=tt_ov_st_1',\n",
    "               'https://www.imdb.com/name/nm0000204/?ref_=tt_ov_st_2',\n",
    "               'https://www.imdb.com/name/nm0000286/?ref_=tt_cst_t_4',\n",
    "               'https://www.imdb.com/name/nm0362766/?ref_=tt_ov_st_1',\n",
    "               'https://www.imdb.com/name/nm0000172/?ref_=tt_ov_st_1',\n",
    "               'https://www.imdb.com/name/nm0000255/?ref_=tt_ov_st_1',\n",
    "               'https://www.imdb.com/name/nm0000169/?ref_=tt_ov_st_1',\n",
    "               'https://www.imdb.com/name/nm0000554/?ref_=tt_ov_st_1',\n",
    "               'https://www.imdb.com/name/nm7609875/?ref_=tt_ov_st_1',\n",
    "               'https://www.imdb.com/name/nm0814280/?ref_=tt_ov_st_1',\n",
    "               'https://www.imdb.com/name/nm0001804/?ref_=tt_cst_t_4',\n",
    "               'https://www.imdb.com/name/nm0000246/?ref_=tt_ov_st_1',\n",
    "               'https://www.imdb.com/name/nm0262635/?ref_=tt_ov_st_1',\n",
    "               'https://www.imdb.com/name/nm0413168/?ref_=tt_ov_st_1']\n",
    "\n",
    "credit_roles = [\"Actor\", \"Producer\", \"Soundtrack\", \"Writer\", \"Director\",\n",
    "                \"Additional Crew\", \"Self\", \"Thanks\", \"Archive Footage\",\n",
    "                \"Archive Sound\", \"Music Department\"]\n",
    "\n",
    "headers = {'User-Agent': 'Mozilla/5.0'}"
   ]
  },
  {
   "cell_type": "markdown",
   "id": "5e949922",
   "metadata": {},
   "source": [
    "The same approach was applied here. To streamline data collection and avoid scraping movie information from multiple sections of the website, webpages organized by actors and genres were targeted. For a dataset of 100 actors, each actor-genre category—Comedy, Horror, Action, and Thriller—provided 25 links. If additional information is needed, simply add the appropriate link."
   ]
  },
  {
   "cell_type": "markdown",
   "id": "5f6f91b8-71a7-44f0-bd24-2623913edf3f",
   "metadata": {},
   "source": [
    "### Retrieving Data - Actors\n",
    "---"
   ]
  },
  {
   "cell_type": "code",
   "execution_count": 8,
   "id": "897be0d4-4a56-4f5a-8c1d-d909b9b004f8",
   "metadata": {},
   "outputs": [],
   "source": [
    "name_actor = []\n",
    "credits = []\n",
    "award_nomination = []\n",
    "award_wins = []\n",
    "\n",
    "for url in urls_actors:\n",
    "    response = requests.get(url, headers=headers)\n",
    "    soup = BeautifulSoup(response.text, 'lxml')\n",
    "    names_1 = soup.title.string.strip()\n",
    "    names_2 = names_1.split(\" - \")[0]\n",
    "    name_actor.append(names_2)\n",
    "\n",
    "    credits.append(sum(int(tag.select_one('span.ipc-chip__count').get_text(strip=True))\n",
    "                       for credit in credit_roles\n",
    "                       for tag in soup.select('span.ipc-chip__text')\n",
    "                       if credit in tag.get_text() and tag.select_one('span.ipc-chip__count')))\n",
    "\n",
    "    award_nomination_1 = soup.find(\n",
    "        'span', attrs={'class': 'ipc-metadata-list-item__list-content-item'})\n",
    "    award_nomination_2 = award_nomination_1.get_text(\n",
    "        strip=True) if award_nomination_1 else \"\"\n",
    "    award_nomination_3 = award_nomination_2.split(\n",
    "        \"&\")[1].split()[0] if \"&\" in award_nomination_2 else \"None\"\n",
    "    award_nomination.append(award_nomination_3)\n",
    "\n",
    "    award_wins_1 = soup.find(\n",
    "        'span', attrs={'class': 'ipc-metadata-list-item__list-content-item'})\n",
    "    award_wins_2 = award_wins_1.get_text(strip=True) if award_wins_1 else \"\"\n",
    "    award_wins_3 = award_wins_2.split(\"&\")[0].strip().split()[\n",
    "        0] if \"&\" in award_wins_2 else \"None\"\n",
    "    award_wins.append(award_wins_3)"
   ]
  },
  {
   "cell_type": "markdown",
   "id": "b65332d2",
   "metadata": {},
   "source": [
    "After retrieving data from the provided links, empty lists for each feature were initialized. Then, a for loop iterates over each movie URL, employing BeautifulSoup to extract and update the corresponding feature list. The \"response\" line sends an HTTP GET request to the URL, while \"soup\" parses the returned text using the 'lxml' parser. These two lines, defined once at the start, are used for all features. By inspecting each URL, the specific tags and attributes containing the necessary content were identified.\n",
    "\n",
    "- For the name of actors feature, the code retrieves the title text, removes whitespaces, splits the text at \" - \", and takes the first segment. It then appends this name to the respective list.\n",
    "\n",
    "- For the credits feature, we first defined a list of credit roles as keywords to identify relevant credits. The code then iterates over each credit role and every span element with the class ipc-chip__text. For each tag that mentions the role and includes a nested span with the class ipc-chip__count, it extracts the count, trims whitespace, converts it to an integer, and sums all these values. Finally, the total is appended to the credits list.\n",
    "\n",
    "- For both nominations and award wins, the code finds the first span element with the class 'ipc-metadata-list-item__list-content-item' and extracts the trimmed text. It then splits the text at the \"&\" character—selecting the second segment for nominations and the first for award wins—further splits that segment by whitespace, and takes the first word. The resulting value is appended to the respective list."
   ]
  },
  {
   "cell_type": "markdown",
   "id": "0b932c8f-d76b-4a79-8c16-d0fc46d14060",
   "metadata": {},
   "source": [
    "### Creating DataFrame - Actors\n",
    "---"
   ]
  },
  {
   "cell_type": "code",
   "execution_count": 9,
   "id": "3d46bced-afed-4744-b525-0f375b039d57",
   "metadata": {},
   "outputs": [
    {
     "name": "stdout",
     "output_type": "stream",
     "text": [
      "<class 'pandas.core.frame.DataFrame'>\n",
      "RangeIndex: 100 entries, 0 to 99\n",
      "Data columns (total 4 columns):\n",
      " #   Column                    Non-Null Count  Dtype \n",
      "---  ------                    --------------  ----- \n",
      " 0   name                      100 non-null    object\n",
      " 1   number_credits            100 non-null    int64 \n",
      " 2   number_award_nominations  100 non-null    object\n",
      " 3   number_award_wins         100 non-null    object\n",
      "dtypes: int64(1), object(3)\n",
      "memory usage: 3.3+ KB\n"
     ]
    }
   ],
   "source": [
    "df_actors = pd.DataFrame({'name': name_actor, 'number_credits': credits,\n",
    "                         'number_award_nominations': award_nomination, 'number_award_wins': award_wins})\n",
    "df_actors.info()"
   ]
  },
  {
   "cell_type": "markdown",
   "id": "b6aa16c4",
   "metadata": {},
   "source": [
    "After assembling the lists for each feature, a dataframe was created with those features as columns."
   ]
  },
  {
   "cell_type": "markdown",
   "id": "ea8e52fc-074f-4999-a502-246a081c87cc",
   "metadata": {},
   "source": [
    "### Exploratory Data Analysis (EDA) - Movies\n",
    "--- "
   ]
  },
  {
   "cell_type": "code",
   "execution_count": 10,
   "id": "76d1e5b3-9264-47aa-9e9d-68c917a1c121",
   "metadata": {},
   "outputs": [
    {
     "name": "stdout",
     "output_type": "stream",
     "text": [
      "<class 'pandas.core.frame.DataFrame'>\n",
      "RangeIndex: 100 entries, 0 to 99\n",
      "Data columns (total 17 columns):\n",
      " #   Column            Non-Null Count  Dtype \n",
      "---  ------            --------------  ----- \n",
      " 0   movie             100 non-null    object\n",
      " 1   release_year      100 non-null    object\n",
      " 2   rating            100 non-null    object\n",
      " 3   duration          100 non-null    object\n",
      " 4   imdb_rating       100 non-null    object\n",
      " 5   popularity        100 non-null    object\n",
      " 6   nominations       100 non-null    object\n",
      " 7   award_wins        100 non-null    object\n",
      " 8   estimated_budget  100 non-null    object\n",
      " 9   gross_worldwide   100 non-null    object\n",
      " 10  genre             100 non-null    object\n",
      " 11  genre_tags_1      100 non-null    object\n",
      " 12  genre_tags_2      100 non-null    object\n",
      " 13  genre_tags_3      100 non-null    object\n",
      " 14  star_actors_1     100 non-null    object\n",
      " 15  star_actors_2     99 non-null     object\n",
      " 16  star_actors_3     98 non-null     object\n",
      "dtypes: object(17)\n",
      "memory usage: 13.4+ KB\n"
     ]
    }
   ],
   "source": [
    "df_movies_adjusted = df_movies\n",
    "df_movies_adjusted.info()"
   ]
  },
  {
   "cell_type": "code",
   "execution_count": 11,
   "id": "76bd70a0",
   "metadata": {},
   "outputs": [],
   "source": [
    "df_movies_adjusted = df_movies_adjusted.drop('duration', axis=1)"
   ]
  },
  {
   "cell_type": "code",
   "execution_count": 12,
   "id": "c390dede-628d-41fb-9efa-72e2d6f7975a",
   "metadata": {},
   "outputs": [
    {
     "data": {
      "text/html": [
       "<div>\n",
       "<style scoped>\n",
       "    .dataframe tbody tr th:only-of-type {\n",
       "        vertical-align: middle;\n",
       "    }\n",
       "\n",
       "    .dataframe tbody tr th {\n",
       "        vertical-align: top;\n",
       "    }\n",
       "\n",
       "    .dataframe thead th {\n",
       "        text-align: right;\n",
       "    }\n",
       "</style>\n",
       "<table border=\"1\" class=\"dataframe\">\n",
       "  <thead>\n",
       "    <tr style=\"text-align: right;\">\n",
       "      <th></th>\n",
       "      <th>movie</th>\n",
       "      <th>release_year</th>\n",
       "      <th>rating</th>\n",
       "      <th>imdb_rating</th>\n",
       "      <th>popularity</th>\n",
       "      <th>nominations</th>\n",
       "      <th>award_wins</th>\n",
       "      <th>estimated_budget</th>\n",
       "      <th>gross_worldwide</th>\n",
       "      <th>genre</th>\n",
       "      <th>genre_tags_1</th>\n",
       "      <th>genre_tags_2</th>\n",
       "      <th>genre_tags_3</th>\n",
       "      <th>star_actors_1</th>\n",
       "      <th>star_actors_2</th>\n",
       "      <th>star_actors_3</th>\n",
       "    </tr>\n",
       "  </thead>\n",
       "  <tbody>\n",
       "    <tr>\n",
       "      <th>0</th>\n",
       "      <td>The Goonies</td>\n",
       "      <td>1985</td>\n",
       "      <td>PG</td>\n",
       "      <td>7.7</td>\n",
       "      <td>119</td>\n",
       "      <td>7</td>\n",
       "      <td>4</td>\n",
       "      <td>$19,000,000</td>\n",
       "      <td>$64,535,652</td>\n",
       "      <td>Comedy</td>\n",
       "      <td>Quest</td>\n",
       "      <td>Teen Adventure</td>\n",
       "      <td>Teen Comedy</td>\n",
       "      <td>Sean Astin</td>\n",
       "      <td>Josh Brolin</td>\n",
       "      <td>Jeff Cohen</td>\n",
       "    </tr>\n",
       "    <tr>\n",
       "      <th>1</th>\n",
       "      <td>Back to the Future</td>\n",
       "      <td>1985</td>\n",
       "      <td>PG</td>\n",
       "      <td>8.5</td>\n",
       "      <td>239</td>\n",
       "      <td>25</td>\n",
       "      <td>27</td>\n",
       "      <td>$19,000,000</td>\n",
       "      <td>$385,053,307</td>\n",
       "      <td>Comedy</td>\n",
       "      <td>High-Concept Comedy</td>\n",
       "      <td>Teen Adventure</td>\n",
       "      <td>Teen Comedy</td>\n",
       "      <td>Michael J</td>\n",
       "      <td>None</td>\n",
       "      <td>None</td>\n",
       "    </tr>\n",
       "    <tr>\n",
       "      <th>2</th>\n",
       "      <td>The Princess Bride</td>\n",
       "      <td>1987</td>\n",
       "      <td>PG</td>\n",
       "      <td>8.0</td>\n",
       "      <td>251</td>\n",
       "      <td>11</td>\n",
       "      <td>7</td>\n",
       "      <td>$16,000,000</td>\n",
       "      <td>$30,976,963</td>\n",
       "      <td>Comedy</td>\n",
       "      <td>Adventure Epic</td>\n",
       "      <td>Fairy Tale</td>\n",
       "      <td>Fantasy Epic</td>\n",
       "      <td>Cary Elwes</td>\n",
       "      <td>Mandy Patinkin</td>\n",
       "      <td>Chris Sarandon</td>\n",
       "    </tr>\n",
       "    <tr>\n",
       "      <th>3</th>\n",
       "      <td>Dead Poets Society</td>\n",
       "      <td>1989</td>\n",
       "      <td>PG</td>\n",
       "      <td>8.1</td>\n",
       "      <td>487</td>\n",
       "      <td>19</td>\n",
       "      <td>20</td>\n",
       "      <td>$16,400,000</td>\n",
       "      <td>$235,860,116</td>\n",
       "      <td>Comedy</td>\n",
       "      <td>Coming-of-Age</td>\n",
       "      <td>Teen Drama</td>\n",
       "      <td>Comedy</td>\n",
       "      <td>Robin Williams</td>\n",
       "      <td>Robert Sean Leonard</td>\n",
       "      <td>Ethan Hawke</td>\n",
       "    </tr>\n",
       "    <tr>\n",
       "      <th>4</th>\n",
       "      <td>Beetlejuice</td>\n",
       "      <td>1988</td>\n",
       "      <td>PG</td>\n",
       "      <td>7.5</td>\n",
       "      <td>579</td>\n",
       "      <td>11</td>\n",
       "      <td>7</td>\n",
       "      <td>$15,000,000</td>\n",
       "      <td>$74,852,535</td>\n",
       "      <td>Comedy</td>\n",
       "      <td>Dark Comedy</td>\n",
       "      <td>Dark Fantasy</td>\n",
       "      <td>Quirky Comedy</td>\n",
       "      <td>Alec Baldwin</td>\n",
       "      <td>Geena Davis</td>\n",
       "      <td>Annie McEnroe</td>\n",
       "    </tr>\n",
       "  </tbody>\n",
       "</table>\n",
       "</div>"
      ],
      "text/plain": [
       "                movie release_year rating imdb_rating popularity nominations  \\\n",
       "0         The Goonies         1985     PG         7.7        119           7   \n",
       "1  Back to the Future         1985     PG         8.5        239          25   \n",
       "2  The Princess Bride         1987     PG         8.0        251          11   \n",
       "3  Dead Poets Society         1989     PG         8.1        487          19   \n",
       "4         Beetlejuice         1988     PG         7.5        579          11   \n",
       "\n",
       "  award_wins estimated_budget gross_worldwide   genre         genre_tags_1  \\\n",
       "0          4      $19,000,000     $64,535,652  Comedy                Quest   \n",
       "1         27      $19,000,000    $385,053,307  Comedy  High-Concept Comedy   \n",
       "2          7      $16,000,000     $30,976,963  Comedy       Adventure Epic   \n",
       "3         20      $16,400,000    $235,860,116  Comedy        Coming-of-Age   \n",
       "4          7      $15,000,000     $74,852,535  Comedy          Dark Comedy   \n",
       "\n",
       "      genre_tags_2    genre_tags_3   star_actors_1         star_actors_2  \\\n",
       "0   Teen Adventure     Teen Comedy      Sean Astin           Josh Brolin   \n",
       "1   Teen Adventure     Teen Comedy       Michael J                  None   \n",
       "2       Fairy Tale    Fantasy Epic      Cary Elwes        Mandy Patinkin   \n",
       "3       Teen Drama          Comedy  Robin Williams   Robert Sean Leonard   \n",
       "4     Dark Fantasy   Quirky Comedy    Alec Baldwin           Geena Davis   \n",
       "\n",
       "     star_actors_3  \n",
       "0       Jeff Cohen  \n",
       "1             None  \n",
       "2   Chris Sarandon  \n",
       "3      Ethan Hawke  \n",
       "4    Annie McEnroe  "
      ]
     },
     "execution_count": 12,
     "metadata": {},
     "output_type": "execute_result"
    }
   ],
   "source": [
    "df_movies_adjusted.head()"
   ]
  },
  {
   "cell_type": "code",
   "execution_count": 13,
   "id": "9b69a11e-4879-4e74-b332-07026ef81087",
   "metadata": {},
   "outputs": [
    {
     "name": "stdout",
     "output_type": "stream",
     "text": [
      "0\n",
      "0\n",
      "2\n"
     ]
    }
   ],
   "source": [
    "print(df_movies_adjusted.duplicated().sum())\n",
    "print(df_movies_adjusted['movie'].duplicated().sum())\n",
    "print((df_movies_adjusted['popularity'] == \"None\").sum())"
   ]
  },
  {
   "cell_type": "code",
   "execution_count": 14,
   "id": "456c218b-a2a4-4bf8-8432-8112beec82d4",
   "metadata": {},
   "outputs": [
    {
     "name": "stdout",
     "output_type": "stream",
     "text": [
      "0\n"
     ]
    }
   ],
   "source": [
    "df_movies_adjusted['release_year'] = df_movies_adjusted['release_year'].astype(\n",
    "    'int')\n",
    "\n",
    "\n",
    "df_movies_adjusted['imdb_rating'] = df_movies_adjusted['imdb_rating'].astype(\n",
    "    'float')\n",
    "\n",
    "\n",
    "df_movies_adjusted['popularity'] = (pd.to_numeric(df_movies_adjusted['popularity'].astype(\n",
    "    str).str.replace('None', ''), errors='coerce').fillna(0).astype(int))\n",
    "\n",
    "\n",
    "df_movies_adjusted['award_wins'] = df_movies_adjusted['award_wins'].astype(\n",
    "    'int')\n",
    "df_movies_adjusted['release_year'] = df_movies_adjusted['release_year'].astype(\n",
    "    'int')\n",
    "df_movies_adjusted['nominations'] = df_movies_adjusted['nominations'].astype(\n",
    "    'int')\n",
    "\n",
    "\n",
    "print((df_movies_adjusted['popularity'] == \"None\").sum())"
   ]
  },
  {
   "cell_type": "code",
   "execution_count": 15,
   "id": "2da87389-00c3-42ec-aa89-0b48584a3337",
   "metadata": {},
   "outputs": [],
   "source": [
    "df_movies_adjusted['estimated_budget'] = df_movies_adjusted['estimated_budget'].astype(\n",
    "    str).str.replace(r'[$¥£]', '', regex=True)\n",
    "\n",
    "\n",
    "df_movies_adjusted['estimated_budget'] = df_movies_adjusted['estimated_budget'].astype(\n",
    "    str).str.replace(',', '').astype(int)\n",
    "\n",
    "\n",
    "df_movies_adjusted['gross_worldwide'] = df_movies_adjusted['gross_worldwide'].astype(\n",
    "    str).str.replace(r'[$¥£]', '', regex=True)\n",
    "\n",
    "\n",
    "df_movies_adjusted['gross_worldwide'] = df_movies_adjusted['gross_worldwide'].astype(\n",
    "    str).str.replace(',', '').astype(int)"
   ]
  },
  {
   "cell_type": "code",
   "execution_count": 16,
   "id": "8da01112-bbd0-4cf3-a2f2-080fc3cfdb52",
   "metadata": {},
   "outputs": [
    {
     "name": "stdout",
     "output_type": "stream",
     "text": [
      "<class 'pandas.core.frame.DataFrame'>\n",
      "RangeIndex: 100 entries, 0 to 99\n",
      "Data columns (total 16 columns):\n",
      " #   Column            Non-Null Count  Dtype  \n",
      "---  ------            --------------  -----  \n",
      " 0   movie             100 non-null    object \n",
      " 1   release_year      100 non-null    int64  \n",
      " 2   rating            100 non-null    object \n",
      " 3   imdb_rating       100 non-null    float64\n",
      " 4   popularity        100 non-null    int64  \n",
      " 5   nominations       100 non-null    int64  \n",
      " 6   award_wins        100 non-null    int64  \n",
      " 7   estimated_budget  100 non-null    int64  \n",
      " 8   gross_worldwide   100 non-null    int64  \n",
      " 9   genre             100 non-null    object \n",
      " 10  genre_tags_1      100 non-null    object \n",
      " 11  genre_tags_2      100 non-null    object \n",
      " 12  genre_tags_3      100 non-null    object \n",
      " 13  star_actors_1     100 non-null    object \n",
      " 14  star_actors_2     99 non-null     object \n",
      " 15  star_actors_3     98 non-null     object \n",
      "dtypes: float64(1), int64(6), object(9)\n",
      "memory usage: 12.6+ KB\n"
     ]
    }
   ],
   "source": [
    "df_movies_adjusted.info()"
   ]
  },
  {
   "cell_type": "code",
   "execution_count": 17,
   "id": "95c29b2b-2347-4d58-8670-007e2affaeb5",
   "metadata": {},
   "outputs": [],
   "source": [
    "df_movies_adjusted['return'] = (\n",
    "    (df_movies_adjusted['gross_worldwide']/df_movies_adjusted['estimated_budget']-1)).round(1)"
   ]
  },
  {
   "cell_type": "code",
   "execution_count": 18,
   "id": "7bf05591-a795-494d-918e-0845115e7902",
   "metadata": {},
   "outputs": [
    {
     "name": "stdout",
     "output_type": "stream",
     "text": [
      "<class 'pandas.core.frame.DataFrame'>\n",
      "RangeIndex: 100 entries, 0 to 99\n",
      "Data columns (total 17 columns):\n",
      " #   Column            Non-Null Count  Dtype  \n",
      "---  ------            --------------  -----  \n",
      " 0   movie             100 non-null    object \n",
      " 1   release_year      100 non-null    int64  \n",
      " 2   rating            100 non-null    object \n",
      " 3   imdb_rating       100 non-null    float64\n",
      " 4   popularity        100 non-null    int64  \n",
      " 5   nominations       100 non-null    int64  \n",
      " 6   award_wins        100 non-null    int64  \n",
      " 7   estimated_budget  100 non-null    int64  \n",
      " 8   gross_worldwide   100 non-null    int64  \n",
      " 9   genre             100 non-null    object \n",
      " 10  genre_tags_1      100 non-null    object \n",
      " 11  genre_tags_2      100 non-null    object \n",
      " 12  genre_tags_3      100 non-null    object \n",
      " 13  star_actors_1     100 non-null    object \n",
      " 14  star_actors_2     99 non-null     object \n",
      " 15  star_actors_3     98 non-null     object \n",
      " 16  return            100 non-null    float64\n",
      "dtypes: float64(2), int64(6), object(9)\n",
      "memory usage: 13.4+ KB\n"
     ]
    }
   ],
   "source": [
    "df_movies_adjusted.info()"
   ]
  },
  {
   "cell_type": "markdown",
   "id": "aa8b0106",
   "metadata": {},
   "source": [
    "For the exploratory data analysis on the movies dataframe, the unused duration feature was dropped and duplicate entries were checked. Two duplicates in the popularity column—essentially None values—were replaced with zero. Next, the datatypes were adjusted and currency symbols were removed from both the gross worldwide and estimated budget features. Finally, a new column named \"return\" was created to calculate the return on investment (ROI) for each movie as a multiplier, computed as (gross_worldwide / estimated_budget - 1) and rounded to one decimal place."
   ]
  },
  {
   "cell_type": "markdown",
   "id": "ce48ed72-04f7-4b32-86c8-374c5047c86f",
   "metadata": {},
   "source": [
    "### Exploratory Data Analysis (EDA) - Actors\n",
    "---"
   ]
  },
  {
   "cell_type": "code",
   "execution_count": 19,
   "id": "74b0f2f8-3f17-4eec-b84b-bde4a88a7769",
   "metadata": {
    "scrolled": true
   },
   "outputs": [
    {
     "name": "stdout",
     "output_type": "stream",
     "text": [
      "<class 'pandas.core.frame.DataFrame'>\n",
      "RangeIndex: 100 entries, 0 to 99\n",
      "Data columns (total 4 columns):\n",
      " #   Column                    Non-Null Count  Dtype \n",
      "---  ------                    --------------  ----- \n",
      " 0   name                      100 non-null    object\n",
      " 1   number_credits            100 non-null    int64 \n",
      " 2   number_award_nominations  100 non-null    object\n",
      " 3   number_award_wins         100 non-null    object\n",
      "dtypes: int64(1), object(3)\n",
      "memory usage: 3.3+ KB\n"
     ]
    }
   ],
   "source": [
    "df_actors.info()"
   ]
  },
  {
   "cell_type": "code",
   "execution_count": 20,
   "id": "f076a916",
   "metadata": {},
   "outputs": [
    {
     "data": {
      "text/plain": [
       "name                        0\n",
       "number_credits              0\n",
       "number_award_nominations    0\n",
       "number_award_wins           0\n",
       "dtype: int64"
      ]
     },
     "execution_count": 20,
     "metadata": {},
     "output_type": "execute_result"
    }
   ],
   "source": [
    "df_actors.isna().sum()"
   ]
  },
  {
   "cell_type": "code",
   "execution_count": 21,
   "id": "d03382ee",
   "metadata": {},
   "outputs": [],
   "source": [
    "df_actors['number_award_nominations'] = pd.to_numeric(\n",
    "    df_actors['number_award_nominations'], errors='coerce').fillna(0).astype(int)\n",
    "df_actors['number_award_wins'] = pd.to_numeric(\n",
    "    df_actors['number_award_wins'], errors='coerce').fillna(0).astype(int)"
   ]
  },
  {
   "cell_type": "code",
   "execution_count": 22,
   "id": "e01f072a",
   "metadata": {},
   "outputs": [
    {
     "name": "stdout",
     "output_type": "stream",
     "text": [
      "<class 'pandas.core.frame.DataFrame'>\n",
      "RangeIndex: 100 entries, 0 to 99\n",
      "Data columns (total 4 columns):\n",
      " #   Column                    Non-Null Count  Dtype \n",
      "---  ------                    --------------  ----- \n",
      " 0   name                      100 non-null    object\n",
      " 1   number_credits            100 non-null    int64 \n",
      " 2   number_award_nominations  100 non-null    int64 \n",
      " 3   number_award_wins         100 non-null    int64 \n",
      "dtypes: int64(3), object(1)\n",
      "memory usage: 3.3+ KB\n"
     ]
    }
   ],
   "source": [
    "df_actors.info()"
   ]
  },
  {
   "cell_type": "code",
   "execution_count": 23,
   "id": "2ff61e07",
   "metadata": {},
   "outputs": [
    {
     "name": "stdout",
     "output_type": "stream",
     "text": [
      "0\n",
      "0\n"
     ]
    }
   ],
   "source": [
    "print(df_actors.duplicated().sum())\n",
    "print(df_actors['name'].duplicated().sum())"
   ]
  },
  {
   "cell_type": "code",
   "execution_count": 24,
   "id": "8b528f67",
   "metadata": {},
   "outputs": [
    {
     "data": {
      "text/html": [
       "<div>\n",
       "<style scoped>\n",
       "    .dataframe tbody tr th:only-of-type {\n",
       "        vertical-align: middle;\n",
       "    }\n",
       "\n",
       "    .dataframe tbody tr th {\n",
       "        vertical-align: top;\n",
       "    }\n",
       "\n",
       "    .dataframe thead th {\n",
       "        text-align: right;\n",
       "    }\n",
       "</style>\n",
       "<table border=\"1\" class=\"dataframe\">\n",
       "  <thead>\n",
       "    <tr style=\"text-align: right;\">\n",
       "      <th></th>\n",
       "      <th>name</th>\n",
       "      <th>number_credits</th>\n",
       "      <th>number_award_nominations</th>\n",
       "      <th>number_award_wins</th>\n",
       "    </tr>\n",
       "  </thead>\n",
       "  <tbody>\n",
       "    <tr>\n",
       "      <th>6</th>\n",
       "      <td>Arnold Schwarzenegger</td>\n",
       "      <td>992</td>\n",
       "      <td>39</td>\n",
       "      <td>32</td>\n",
       "    </tr>\n",
       "    <tr>\n",
       "      <th>19</th>\n",
       "      <td>Will Smith</td>\n",
       "      <td>963</td>\n",
       "      <td>188</td>\n",
       "      <td>97</td>\n",
       "    </tr>\n",
       "    <tr>\n",
       "      <th>17</th>\n",
       "      <td>Dwayne Johnson</td>\n",
       "      <td>949</td>\n",
       "      <td>91</td>\n",
       "      <td>22</td>\n",
       "    </tr>\n",
       "    <tr>\n",
       "      <th>9</th>\n",
       "      <td>Cher</td>\n",
       "      <td>772</td>\n",
       "      <td>92</td>\n",
       "      <td>53</td>\n",
       "    </tr>\n",
       "    <tr>\n",
       "      <th>3</th>\n",
       "      <td>Robin Williams</td>\n",
       "      <td>764</td>\n",
       "      <td>86</td>\n",
       "      <td>66</td>\n",
       "    </tr>\n",
       "  </tbody>\n",
       "</table>\n",
       "</div>"
      ],
      "text/plain": [
       "                     name  number_credits  number_award_nominations  \\\n",
       "6   Arnold Schwarzenegger             992                        39   \n",
       "19             Will Smith             963                       188   \n",
       "17         Dwayne Johnson             949                        91   \n",
       "9                    Cher             772                        92   \n",
       "3          Robin Williams             764                        86   \n",
       "\n",
       "    number_award_wins  \n",
       "6                  32  \n",
       "19                 97  \n",
       "17                 22  \n",
       "9                  53  \n",
       "3                  66  "
      ]
     },
     "metadata": {},
     "output_type": "display_data"
    }
   ],
   "source": [
    "df_actors_credits = df_actors.sort_values(\n",
    "    by='number_credits', ascending=False)\n",
    "display(df_actors_credits.head())"
   ]
  },
  {
   "cell_type": "code",
   "execution_count": 25,
   "id": "318e3c38",
   "metadata": {},
   "outputs": [
    {
     "data": {
      "text/html": [
       "<div>\n",
       "<style scoped>\n",
       "    .dataframe tbody tr th:only-of-type {\n",
       "        vertical-align: middle;\n",
       "    }\n",
       "\n",
       "    .dataframe tbody tr th {\n",
       "        vertical-align: top;\n",
       "    }\n",
       "\n",
       "    .dataframe thead th {\n",
       "        text-align: right;\n",
       "    }\n",
       "</style>\n",
       "<table border=\"1\" class=\"dataframe\">\n",
       "  <thead>\n",
       "    <tr style=\"text-align: right;\">\n",
       "      <th></th>\n",
       "      <th>name</th>\n",
       "      <th>number_credits</th>\n",
       "      <th>number_award_nominations</th>\n",
       "      <th>number_award_wins</th>\n",
       "    </tr>\n",
       "  </thead>\n",
       "  <tbody>\n",
       "    <tr>\n",
       "      <th>15</th>\n",
       "      <td>Leonardo DiCaprio</td>\n",
       "      <td>529</td>\n",
       "      <td>286</td>\n",
       "      <td>108</td>\n",
       "    </tr>\n",
       "    <tr>\n",
       "      <th>11</th>\n",
       "      <td>Bradley Cooper</td>\n",
       "      <td>379</td>\n",
       "      <td>286</td>\n",
       "      <td>72</td>\n",
       "    </tr>\n",
       "    <tr>\n",
       "      <th>80</th>\n",
       "      <td>Joaquin Phoenix</td>\n",
       "      <td>254</td>\n",
       "      <td>203</td>\n",
       "      <td>71</td>\n",
       "    </tr>\n",
       "    <tr>\n",
       "      <th>19</th>\n",
       "      <td>Will Smith</td>\n",
       "      <td>963</td>\n",
       "      <td>188</td>\n",
       "      <td>97</td>\n",
       "    </tr>\n",
       "    <tr>\n",
       "      <th>71</th>\n",
       "      <td>Judi Dench</td>\n",
       "      <td>360</td>\n",
       "      <td>186</td>\n",
       "      <td>71</td>\n",
       "    </tr>\n",
       "  </tbody>\n",
       "</table>\n",
       "</div>"
      ],
      "text/plain": [
       "                 name  number_credits  number_award_nominations  \\\n",
       "15  Leonardo DiCaprio             529                       286   \n",
       "11     Bradley Cooper             379                       286   \n",
       "80    Joaquin Phoenix             254                       203   \n",
       "19         Will Smith             963                       188   \n",
       "71         Judi Dench             360                       186   \n",
       "\n",
       "    number_award_wins  \n",
       "15                108  \n",
       "11                 72  \n",
       "80                 71  \n",
       "19                 97  \n",
       "71                 71  "
      ]
     },
     "metadata": {},
     "output_type": "display_data"
    }
   ],
   "source": [
    "df_actors_nominations = df_actors.sort_values(\n",
    "    by='number_award_nominations', ascending=False)\n",
    "display(df_actors_nominations.head())"
   ]
  },
  {
   "cell_type": "code",
   "execution_count": 26,
   "id": "7d6a062b",
   "metadata": {},
   "outputs": [
    {
     "data": {
      "text/html": [
       "<div>\n",
       "<style scoped>\n",
       "    .dataframe tbody tr th:only-of-type {\n",
       "        vertical-align: middle;\n",
       "    }\n",
       "\n",
       "    .dataframe tbody tr th {\n",
       "        vertical-align: top;\n",
       "    }\n",
       "\n",
       "    .dataframe thead th {\n",
       "        text-align: right;\n",
       "    }\n",
       "</style>\n",
       "<table border=\"1\" class=\"dataframe\">\n",
       "  <thead>\n",
       "    <tr style=\"text-align: right;\">\n",
       "      <th></th>\n",
       "      <th>name</th>\n",
       "      <th>number_credits</th>\n",
       "      <th>number_award_nominations</th>\n",
       "      <th>number_award_wins</th>\n",
       "    </tr>\n",
       "  </thead>\n",
       "  <tbody>\n",
       "    <tr>\n",
       "      <th>15</th>\n",
       "      <td>Leonardo DiCaprio</td>\n",
       "      <td>529</td>\n",
       "      <td>286</td>\n",
       "      <td>108</td>\n",
       "    </tr>\n",
       "    <tr>\n",
       "      <th>19</th>\n",
       "      <td>Will Smith</td>\n",
       "      <td>963</td>\n",
       "      <td>188</td>\n",
       "      <td>97</td>\n",
       "    </tr>\n",
       "    <tr>\n",
       "      <th>87</th>\n",
       "      <td>Natalie Portman</td>\n",
       "      <td>356</td>\n",
       "      <td>183</td>\n",
       "      <td>96</td>\n",
       "    </tr>\n",
       "    <tr>\n",
       "      <th>64</th>\n",
       "      <td>Heath Ledger</td>\n",
       "      <td>155</td>\n",
       "      <td>67</td>\n",
       "      <td>84</td>\n",
       "    </tr>\n",
       "    <tr>\n",
       "      <th>77</th>\n",
       "      <td>Christian Bale</td>\n",
       "      <td>284</td>\n",
       "      <td>133</td>\n",
       "      <td>84</td>\n",
       "    </tr>\n",
       "  </tbody>\n",
       "</table>\n",
       "</div>"
      ],
      "text/plain": [
       "                 name  number_credits  number_award_nominations  \\\n",
       "15  Leonardo DiCaprio             529                       286   \n",
       "19         Will Smith             963                       188   \n",
       "87    Natalie Portman             356                       183   \n",
       "64       Heath Ledger             155                        67   \n",
       "77     Christian Bale             284                       133   \n",
       "\n",
       "    number_award_wins  \n",
       "15                108  \n",
       "19                 97  \n",
       "87                 96  \n",
       "64                 84  \n",
       "77                 84  "
      ]
     },
     "metadata": {},
     "output_type": "display_data"
    }
   ],
   "source": [
    "df_actors_wins = df_actors.sort_values(\n",
    "    by='number_award_wins', ascending=False)\n",
    "display(df_actors_wins.head())"
   ]
  },
  {
   "cell_type": "markdown",
   "id": "b2891eb3",
   "metadata": {},
   "source": [
    "For the exploratory data analysis on the actors dataframe, the dataset was first checked for duplicates, with none found. Next, some None values were identified, prompting a change in the datatypes of the 'number_award_nominations' and 'number_award_wins' columns from object to int, and the fillna function was used to replace the None values with 0. Finally, three new datasets were created—each sorted based on the values of three different columns—to facilitate addressing the research question."
   ]
  },
  {
   "cell_type": "markdown",
   "id": "deb1bd3a-dc1b-4aca-a99b-e25ba66ae750",
   "metadata": {},
   "source": [
    "### Chart - Movies\n",
    "---"
   ]
  },
  {
   "cell_type": "markdown",
   "id": "eee09d5e",
   "metadata": {},
   "source": [
    "- ***What is the median return on a movie, and how has it evolved over time?***\n",
    "---"
   ]
  },
  {
   "cell_type": "code",
   "execution_count": 27,
   "id": "a870840f-3808-446d-83eb-850593a4db99",
   "metadata": {},
   "outputs": [
    {
     "data": {
      "image/png": "[encoded data removed]",
      "text/plain": [
       "<Figure size 600x400 with 1 Axes>"
      ]
     },
     "metadata": {},
     "output_type": "display_data"
    }
   ],
   "source": [
    "sns.set(style=\"whitegrid\")\n",
    "genre_counts = {\"Comedy\": 25, \"Horror\": 22, \"Action\": 19, \"Thriller\": 21}\n",
    "order = [\"Comedy\", \"Horror\", \"Action\", \"Thriller\"]\n",
    "new_labels = [f\"{genre} (n={genre_counts[genre]})\" for genre in order]\n",
    "\n",
    "sns.set_theme(style=\"whitegrid\")\n",
    "plt.figure(figsize=(6, 4))\n",
    "ax = sns.boxplot(\n",
    "    data=df_movies_adjusted, x='genre', y='return',\n",
    "    order=order, showfliers=False,\n",
    "    palette=sns.color_palette(\"Blues\", n_colors=4)\n",
    ")\n",
    "ax.set_xticklabels(new_labels, rotation=0, fontsize=10)\n",
    "formatter = mticker.FuncFormatter(lambda x, pos: f'{x:,.1f}')\n",
    "ax.yaxis.set_major_formatter(formatter)\n",
    "plt.title(\"Movie Return by Genre (excl. outliers)\",\n",
    "          fontsize=10, fontweight='bold')\n",
    "plt.xlabel(\"Genre\", fontsize=9)\n",
    "plt.ylabel(\"Return (X)\", fontsize=9)\n",
    "plt.xticks(fontsize=9)\n",
    "plt.yticks(fontsize=9)\n",
    "ax.grid(False)\n",
    "ax.spines['top'].set_visible(False)\n",
    "ax.spines['right'].set_visible(False)\n",
    "ax.spines['left'].set_color('black')\n",
    "ax.spines['bottom'].set_color('black')\n",
    "\n",
    "plt.subplots_adjust(bottom=0.15)\n",
    "plt.figtext(0.01, 0.01, \"*Adjusted for inflation\",\n",
    "            ha=\"left\", fontsize=8, style=\"italic\")\n",
    "mpl.rcParams[\"font.family\"] = \"sans-serif\"\n",
    "mpl.rcParams[\"font.sans-serif\"] = [\"Arial\",\n",
    "                                   \"Helvetica\", \"DejaVu Sans\", \"Bitstream Vera Sans\"]\n",
    "\n",
    "plt.show()"
   ]
  },
  {
   "cell_type": "markdown",
   "id": "1fa6d8e2",
   "metadata": {},
   "source": [
    "The box plot displays consolidated ROI figures across various movie genres. After excluding outliers, Comedy leads with an ROI of 4.8X, followed by Horror at 3.4X, Action at 3.3X, and Thriller at 3.0X. Notably, some Horror and Thriller films reported negative returns, indicating losses. The chart underscores that overall industry returns are highly sensitive to genre and blockbuster status. However, the analysis is based on a sample of fewer than 100 movies, so greater variability may exist and the findings might not fully represent the broader population."
   ]
  },
  {
   "cell_type": "code",
   "execution_count": 28,
   "id": "c715f65a-495f-471b-a07e-9b73c122707a",
   "metadata": {},
   "outputs": [
    {
     "data": {
      "image/png": "[encoded data removed]",
      "text/plain": [
       "<Figure size 600x400 with 1 Axes>"
      ]
     },
     "metadata": {},
     "output_type": "display_data"
    }
   ],
   "source": [
    "sns.set_theme(style=\"whitegrid\", font=\"Arial\")\n",
    "grouped = df_movies_adjusted.groupby(\n",
    "    \"genre\"\n",
    ")[[\"gross_worldwide\", \"estimated_budget\"]].median().reset_index()\n",
    "\n",
    "grouped = grouped.sort_values(\"gross_worldwide\", ascending=False)\n",
    "order = grouped[\"genre\"].tolist()\n",
    "\n",
    "data_long = grouped.melt(\n",
    "    id_vars=\"genre\",\n",
    "    value_vars=[\"gross_worldwide\", \"estimated_budget\"],\n",
    "    var_name=\"Measure\",\n",
    "    value_name=\"Value\"\n",
    ")\n",
    "\n",
    "plt.figure(figsize=(6, 4))\n",
    "ax = sns.barplot(\n",
    "    data=data_long,\n",
    "    x=\"genre\",\n",
    "    y=\"Value\",\n",
    "    hue=\"Measure\",\n",
    "    order=order,\n",
    "    palette=[\"steelblue\", \"lightblue\"],\n",
    "    edgecolor=\"black\"\n",
    ")\n",
    "\n",
    "ax.grid(False)\n",
    "\n",
    "ax.spines['top'].set_visible(False)\n",
    "ax.spines['right'].set_visible(False)\n",
    "ax.spines['left'].set_color('black')\n",
    "ax.spines['bottom'].set_color('black')\n",
    "\n",
    "plt.title(\"Gross Worldwide vs. Estimated Budget by Genre\",\n",
    "          fontsize=10, fontweight='bold')\n",
    "plt.xlabel(\"Genre\", fontsize=9)\n",
    "plt.ylabel(\"Median Value (USD Millions)\", fontsize=9)\n",
    "plt.xticks(fontsize=9)\n",
    "plt.yticks(fontsize=9)\n",
    "\n",
    "formatter = mpl.ticker.FuncFormatter(lambda x, pos: f'{x/1e6:.0f}')\n",
    "ax.yaxis.set_major_formatter(formatter)\n",
    "\n",
    "plt.subplots_adjust(bottom=0.15)\n",
    "plt.figtext(0.01, 0.01, \"*Adjusted for inflation\",\n",
    "            ha=\"left\", fontsize=8, style=\"italic\")\n",
    "\n",
    "plt.legend(frameon=False, fontsize=9)\n",
    "mpl.rcParams[\"font.family\"] = \"sans-serif\"\n",
    "mpl.rcParams[\"font.sans-serif\"] = [\"Arial\",\n",
    "                                   \"Helvetica\", \"DejaVu Sans\", \"Bitstream Vera Sans\"]\n",
    "plt.show()"
   ]
  },
  {
   "cell_type": "markdown",
   "id": "98ac70e4",
   "metadata": {},
   "source": [
    "The bar chart presents both gross worldwide revenue and estimated budgets for each genre. Within the analyzed sample, comedies—despite having the second highest estimated budget—achieved the highest worldwide gross, which contributed to their top ROI in the boxplot. In contrast, action films, although ranking second in gross revenue, encountered the highest production costs, leading to a lower ROI and a third-place position in the boxplot. Horror films, while generating the least gross revenue, benefited from the lowest production costs, resulting in the second highest ROI, whereas thrillers—with the third highest sales but higher budgets—ranked lower in ROI. Although the sample size is small and may not fully represent the broader market, these initial findings suggest that comedies tend to perform well in return metrics due to their lower production costs and broad audience appeal."
   ]
  },
  {
   "cell_type": "code",
   "execution_count": 29,
   "id": "c9f0befa-0057-4720-9338-38bb8ea024b0",
   "metadata": {},
   "outputs": [
    {
     "data": {
      "image/png": "[encoded data removed]",
      "text/plain": [
       "<Figure size 550x350 with 1 Axes>"
      ]
     },
     "metadata": {},
     "output_type": "display_data"
    }
   ],
   "source": [
    "\n",
    "\n",
    "bins = [1980, 1990, 2000, 2010, 2020, 2026]\n",
    "labels = [\"1980-1989\", \"1990-1999\", \"2000-2009\", \"2010-2019\", \"2020-2025\"]\n",
    "df_movies_adjusted[\"year_range\"] = pd.cut(\n",
    "    df_movies_adjusted[\"release_year\"],\n",
    "    bins=bins,\n",
    "    labels=labels,\n",
    "    right=False\n",
    ")\n",
    "\n",
    "grouped = df_movies_adjusted.groupby(\n",
    "    \"year_range\")[\"return\"].median().reset_index()\n",
    "\n",
    "sns.set_theme(style=\"whitegrid\")\n",
    "plt.figure(figsize=(5.5, 3.5))\n",
    "ax = sns.barplot(\n",
    "    data=grouped,\n",
    "    x=\"year_range\",\n",
    "    y=\"return\",\n",
    "    palette=[\"#9ecae1\"],\n",
    "    edgecolor=\"black\"\n",
    ")\n",
    "\n",
    "ax.grid(False)\n",
    "\n",
    "formatter = mticker.FuncFormatter(lambda x, pos: f'{x:,.1f}')\n",
    "ax.yaxis.set_major_formatter(formatter)\n",
    "\n",
    "median_return = np.median(df_movies_adjusted[\"return\"].dropna())\n",
    "ax.axhline(\n",
    "    median_return,\n",
    "    color='navy',\n",
    "    linestyle='--',\n",
    "    dashes=(2, 2),\n",
    "    linewidth=1,\n",
    "    label=f'Median Return ({median_return:,.1f}X)'\n",
    ")\n",
    "\n",
    "plt.title(\"Median Movie Return by Year\", fontsize=10, fontweight='bold')\n",
    "plt.xlabel(\"Release Year Range\", fontsize=9)\n",
    "plt.ylabel(\"Median Return (X)\", fontsize=9)\n",
    "\n",
    "plt.xticks(fontsize=9)\n",
    "plt.yticks(fontsize=9)\n",
    "\n",
    "ax.spines['top'].set_visible(False)\n",
    "ax.spines['right'].set_visible(False)\n",
    "ax.spines['left'].set_color('black')\n",
    "ax.spines['bottom'].set_color('black')\n",
    "\n",
    "plt.subplots_adjust(bottom=0.15)\n",
    "plt.figtext(0.01, 0.01, \"*Adjusted for inflation\",\n",
    "            ha=\"left\", fontsize=8, style=\"italic\")\n",
    "mpl.rcParams[\"font.family\"] = \"sans-serif\"\n",
    "mpl.rcParams[\"font.sans-serif\"] = [\"Arial\",\n",
    "                                   \"Helvetica\", \"DejaVu Sans\", \"Bitstream Vera Sans\"]\n",
    "\n",
    "plt.show()"
   ]
  },
  {
   "cell_type": "markdown",
   "id": "0c4f4d5f",
   "metadata": {},
   "source": [
    "The bar chart depicts the median ROI for movies over different years, with a blue dotted line marking the overall median across all genres and years. The data reveals a steady decline in ROI over time—starting with a median of about 4.0X in the 1980s and falling to 3.5X in the 1990s and 2010s, which is below the overall median of 3.6X. Although a modest recovery appears in the last five years, ROI remains lower than the levels observed in earlier decades. These insights, derived from a limited sample, likely reflect factors such as rising production costs, the influence of streaming services, evolving consumer behavior, and reduced theatrical attendance."
   ]
  },
  {
   "cell_type": "markdown",
   "id": "2572b355",
   "metadata": {},
   "source": [
    "- ***What relationships exist between different movie attributes, and how do they influence commercial success?***\n",
    "--- "
   ]
  },
  {
   "cell_type": "code",
   "execution_count": 30,
   "id": "9961148a-3206-4020-8dca-969971c4f93e",
   "metadata": {},
   "outputs": [],
   "source": [
    "df_corr_movies = df_movies_adjusted.dropna()"
   ]
  },
  {
   "cell_type": "code",
   "execution_count": 31,
   "id": "b45ccf82-42c7-4e62-9dd3-c9e9851aacd7",
   "metadata": {},
   "outputs": [
    {
     "name": "stdout",
     "output_type": "stream",
     "text": [
      "<class 'pandas.core.frame.DataFrame'>\n",
      "Index: 98 entries, 0 to 99\n",
      "Data columns (total 18 columns):\n",
      " #   Column            Non-Null Count  Dtype   \n",
      "---  ------            --------------  -----   \n",
      " 0   movie             98 non-null     object  \n",
      " 1   release_year      98 non-null     int64   \n",
      " 2   rating            98 non-null     object  \n",
      " 3   imdb_rating       98 non-null     float64 \n",
      " 4   popularity        98 non-null     int64   \n",
      " 5   nominations       98 non-null     int64   \n",
      " 6   award_wins        98 non-null     int64   \n",
      " 7   estimated_budget  98 non-null     int64   \n",
      " 8   gross_worldwide   98 non-null     int64   \n",
      " 9   genre             98 non-null     object  \n",
      " 10  genre_tags_1      98 non-null     object  \n",
      " 11  genre_tags_2      98 non-null     object  \n",
      " 12  genre_tags_3      98 non-null     object  \n",
      " 13  star_actors_1     98 non-null     object  \n",
      " 14  star_actors_2     98 non-null     object  \n",
      " 15  star_actors_3     98 non-null     object  \n",
      " 16  return            98 non-null     float64 \n",
      " 17  year_range        98 non-null     category\n",
      "dtypes: category(1), float64(2), int64(6), object(9)\n",
      "memory usage: 14.1+ KB\n"
     ]
    }
   ],
   "source": [
    "df_corr_movies.info()"
   ]
  },
  {
   "cell_type": "code",
   "execution_count": 32,
   "id": "585dace1-9466-44cd-b9ec-34d21457e93c",
   "metadata": {},
   "outputs": [
    {
     "data": {
      "text/plain": [
       "movie               0\n",
       "release_year        0\n",
       "rating              0\n",
       "imdb_rating         0\n",
       "popularity          0\n",
       "nominations         0\n",
       "award_wins          0\n",
       "estimated_budget    0\n",
       "gross_worldwide     0\n",
       "genre               0\n",
       "genre_tags_1        0\n",
       "genre_tags_2        0\n",
       "genre_tags_3        0\n",
       "star_actors_1       0\n",
       "star_actors_2       0\n",
       "star_actors_3       0\n",
       "return              0\n",
       "year_range          0\n",
       "dtype: int64"
      ]
     },
     "execution_count": 32,
     "metadata": {},
     "output_type": "execute_result"
    }
   ],
   "source": [
    "df_corr_movies.isna().sum()"
   ]
  },
  {
   "cell_type": "code",
   "execution_count": 33,
   "id": "c053af97-b3c3-49e1-a99a-7e65abc12b4a",
   "metadata": {},
   "outputs": [],
   "source": [
    "num_cols_corr = ['imdb_rating', 'popularity', 'nominations',\n",
    "                 'award_wins', 'estimated_budget', 'gross_worldwide']"
   ]
  },
  {
   "cell_type": "code",
   "execution_count": 34,
   "id": "58a152a2-228a-419d-90c3-3e1cd9889aa9",
   "metadata": {
    "scrolled": true
   },
   "outputs": [
    {
     "data": {
      "image/png": "[encoded data removed]",
      "text/plain": [
       "<Figure size 550x350 with 2 Axes>"
      ]
     },
     "metadata": {},
     "output_type": "display_data"
    }
   ],
   "source": [
    "mpl.rcParams[\"font.family\"] = \"sans-serif\"\n",
    "mpl.rcParams[\"font.sans-serif\"] = [\"Arial\",\n",
    "                                   \"Helvetica\", \"DejaVu Sans\", \"Bitstream Vera Sans\"]\n",
    "\n",
    "corr_matrix = df_corr_movies[num_cols_corr].corr(method='pearson')\n",
    "\n",
    "plt.figure(figsize=(5.5, 3.5))\n",
    "ax = sns.heatmap(\n",
    "    corr_matrix,\n",
    "    annot=True,\n",
    "    cmap='Blues',  # Changed to a blue-themed colormap\n",
    "    vmin=-1,\n",
    "    vmax=1,\n",
    "    annot_kws={\"fontsize\": 9}\n",
    ")\n",
    "\n",
    "plt.xticks(fontsize=9)\n",
    "plt.yticks(fontsize=9)\n",
    "\n",
    "plt.title('Pearson Correlation for Movies', fontsize=10, fontweight='bold')\n",
    "\n",
    "cbar = ax.collections[0].colorbar\n",
    "cbar.ax.tick_params(labelsize=9)\n",
    "\n",
    "plt.show()"
   ]
  },
  {
   "cell_type": "markdown",
   "id": "95bd10ac-c41a-417e-8d31-d217ff86c3db",
   "metadata": {},
   "source": [
    "***Budget and Revenue Relationship:***\n",
    "- A robust positive relationship (0.81) exists between a movie's estimated budget and its worldwide gross revenue, indicating that films with larger production budgets generally earn more at the box office.\n",
    "\n",
    "***Moderate Link Between Nominations and Financial Success:***\n",
    "- There is a moderate positive correlation (0.44) between nominations and gross worldwide revenue. This implies that films receiving critical recognition often earn more at the box office, although this association is not as pronounced as the link between production budgets and revenue.\n",
    "\n",
    "***Weak Correlation Between Popularity and Ratings:***\n",
    "- The correlation between IMDb ratings and popularity is weak (0.12), suggesting that a movie's widespread appeal doesn't necessarily correspond to higher ratings from critics or audiences.\n",
    "\n",
    "***Awards and Nominations Correlation:***\n",
    "- A very strong positive correlation (0.83) exists between award wins and nominations, which is expected since movies with more nominations tend to win more awards.\n",
    "\n",
    "***Minimal Relationship Between Ratings and Revenue:***\n",
    "- The correlation between IMDb ratings and gross worldwide revenue is very weak (0.054), indicating that films with higher ratings don't necessarily achieve greater box office earnings.\n",
    "\n",
    "***Negative Correlation Between Popularity and Critical Recognition:***\n",
    "- Popularity exhibits a slight negative correlation with both nominations (-0.12) and award wins (-0.086), suggesting that films which are highly popular might be less inclined to receive critical accolades or awards, possibly due to genre preferences or biases in award selection.\n"
   ]
  },
  {
   "cell_type": "markdown",
   "id": "56cf52e4",
   "metadata": {},
   "source": [
    "- ***Do actors with more credits  or more nominations tend to win more awards?***\n",
    "---"
   ]
  },
  {
   "cell_type": "code",
   "execution_count": 35,
   "id": "18ebf2af",
   "metadata": {},
   "outputs": [
    {
     "data": {
      "image/png": "[encoded data removed]",
      "text/plain": [
       "<Figure size 550x350 with 1 Axes>"
      ]
     },
     "metadata": {},
     "output_type": "display_data"
    }
   ],
   "source": [
    "sns.set_theme(style=\"whitegrid\", palette=\"Blues\")\n",
    "plt.rcParams[\"font.family\"] = \"Arial\"\n",
    "plt.rcParams.update({'font.size': 9, 'axes.titlesize': 10})\n",
    "\n",
    "plt.figure(figsize=(5.5, 3.5))\n",
    "ax = plt.gca()\n",
    "\n",
    "sns.scatterplot(data=df_actors_nominations,\n",
    "                x='number_award_nominations',\n",
    "                y='number_award_wins',\n",
    "                hue='number_award_nominations',\n",
    "                size='number_award_nominations',\n",
    "                palette='Blues',\n",
    "                alpha=0.8,\n",
    "                edgecolor='black',\n",
    "                ax=ax)\n",
    "\n",
    "sns.regplot(x=df_actors_nominations['number_award_nominations'],\n",
    "            y=df_actors_nominations['number_award_wins'],\n",
    "            scatter=False,\n",
    "            color='steelblue',\n",
    "            ci=None,\n",
    "            ax=ax)\n",
    "\n",
    "plt.xlabel('Number of Award Nominations', fontsize=9)\n",
    "plt.ylabel('Number of Award Wins', fontsize=9)\n",
    "plt.title('Do Award Nominations Lead to More Award Wins?',\n",
    "          fontsize=10, fontweight='bold')\n",
    "plt.xticks(fontsize=9)\n",
    "plt.yticks(fontsize=9)\n",
    "\n",
    "plt.legend(title=\"Nominations (Bubble Size & Color)\",\n",
    "           loc='lower right',\n",
    "           fontsize=8,\n",
    "           title_fontsize=9,\n",
    "           markerscale=0.7,\n",
    "           handlelength=1,\n",
    "           labelspacing=0.3,\n",
    "           borderpad=0.1,\n",
    "           handletextpad=0.2)\n",
    "\n",
    "plt.grid(True, linestyle=\"--\", alpha=0.6)\n",
    "\n",
    "ax.spines['top'].set_visible(False)\n",
    "ax.spines['right'].set_visible(False)\n",
    "ax.spines['bottom'].set_color('black')\n",
    "ax.spines['left'].set_color('black')\n",
    "\n",
    "plt.show()"
   ]
  },
  {
   "cell_type": "markdown",
   "id": "b9e01114",
   "metadata": {},
   "source": [
    "The scatterplot illustrates the relationship between the number of award nominations and wins for actors featured in 100 movies selected from IMDb. Each point represents an actor, with bubble size and color corresponding to their number of nominations, and a regression line (blue) indicating an upward trend.\n",
    "\n",
    "The visualization reveals a strong positive correlation between nominations and wins, implying that actors with more nominations tend to secure more awards. Most data points cluster in the lower-left corner of the graph, indicating that the majority of actors receive only a few nominations and wins. In contrast, the outliers in the upper-right suggest that a small number of actors accumulate an exceptionally high count of both nominations and awards.\n",
    "\n",
    "Overall, the graph supports the idea that receiving nominations significantly increases the likelihood of winning awards."
   ]
  },
  {
   "cell_type": "code",
   "execution_count": null,
   "id": "32e09c60",
   "metadata": {},
   "outputs": [
    {
     "data": {
      "image/png": "[encoded data removed]",
      "text/plain": [
       "<Figure size 550x350 with 1 Axes>"
      ]
     },
     "metadata": {},
     "output_type": "display_data"
    }
   ],
   "source": [
    "sns.set_theme(style=\"whitegrid\", palette=\"Blues\")\n",
    "plt.rcParams[\"font.family\"] = \"Arial\"\n",
    "plt.rcParams.update({'font.size': 9, 'axes.titlesize': 10})\n",
    "\n",
    "plt.figure(figsize=(5.5, 3.5))\n",
    "ax = plt.gca()\n",
    "\n",
    "sns.scatterplot(data=df_actors_credits,\n",
    "                x='number_credits',\n",
    "                y='number_award_wins',\n",
    "                hue='number_credits',\n",
    "                size='number_credits',\n",
    "                palette='Blues',\n",
    "                alpha=0.8,\n",
    "                edgecolor='black',\n",
    "                ax=ax)\n",
    "\n",
    "sns.regplot(x=df_actors_credits['number_credits'],\n",
    "            y=df_actors_credits['number_award_wins'],\n",
    "            scatter=False,\n",
    "            color='steelblue',\n",
    "            ci=None,\n",
    "            ax=ax)\n",
    "\n",
    "plt.xlabel('Number of Credits', fontsize=8)\n",
    "plt.ylabel('Number of Award Wins', fontsize=8)\n",
    "plt.title('Do Credits Lead to More Award Wins?',\n",
    "          fontsize=10, fontweight='bold')\n",
    "\n",
    "plt.legend(title=\"Credits (Bubble Size & Color)\",\n",
    "           loc='upper left',\n",
    "           fontsize=9,\n",
    "           title_fontsize=10,\n",
    "           markerscale=0.7,\n",
    "           handlelength=1,\n",
    "           labelspacing=0.3,\n",
    "           borderpad=0.1,\n",
    "           handletextpad=0.2)\n",
    "plt.xticks(fontsize=9)\n",
    "plt.yticks(fontsize=9)\n",
    "\n",
    "plt.grid(True, linestyle=\"--\", alpha=0.6)\n",
    "\n",
    "ax.spines['top'].set_visible(False)\n",
    "ax.spines['right'].set_visible(False)\n",
    "ax.spines['bottom'].set_color('black')\n",
    "ax.spines['left'].set_color('black')\n",
    "\n",
    "plt.show()"
   ]
  },
  {
   "cell_type": "markdown",
   "id": "df43f3d3",
   "metadata": {},
   "source": [
    "The scatterplot investigates whether there's a relationship between the number of credits an actor has and the number of awards they've won. Each point represents an actor from one of 100 IMDb-selected movies, with bubble size and color indicating the number of credits, and a regression line (blue) illustrating the overall trend.\n",
    "\n",
    "The plot reveals a positive correlation, though noticeably weaker than in the previous graph. The data points are more dispersed: while some actors with many credits have secured numerous awards, others have not. Additionally, a few actors with relatively few credits have achieved a significant number of wins, suggesting that quality and recognition may be more crucial than quantity.\n",
    "\n",
    "Overall, the analysis indicates that working on many projects does not necessarily lead to more awards—industry recognition appears to be a more important factor."
   ]
  },
  {
   "cell_type": "code",
   "execution_count": null,
   "id": "92049cd7",
   "metadata": {},
   "outputs": [
    {
     "data": {
      "image/png": "[encoded data removed]",
      "text/plain": [
       "<Figure size 550x400 with 1 Axes>"
      ]
     },
     "metadata": {},
     "output_type": "display_data"
    }
   ],
   "source": [
    "sns.set_theme(style=\"whitegrid\", palette=\"Blues\")\n",
    "plt.rcParams[\"font.family\"] = \"Arial\"\n",
    "plt.rcParams.update({'font.size': 9, 'axes.titlesize': 10})\n",
    "\n",
    "plt.figure(figsize=(5.5, 4))\n",
    "ax = plt.gca()\n",
    "\n",
    "sns.scatterplot(data=df_actors_credits,\n",
    "                x='number_credits',\n",
    "                y='number_award_wins',\n",
    "                hue='number_credits',\n",
    "                size='number_credits',\n",
    "                palette='Blues',\n",
    "                alpha=0.8,\n",
    "                edgecolor='black',\n",
    "                sizes=(0, 100),\n",
    "                ax=ax)\n",
    "\n",
    "sns.scatterplot(data=df_actors_nominations,\n",
    "                x='number_award_nominations',\n",
    "                y='number_award_wins',\n",
    "                hue='number_award_nominations',\n",
    "                size='number_award_nominations',\n",
    "                palette='Reds',\n",
    "                alpha=0.8,\n",
    "                edgecolor='black',\n",
    "                sizes=(0, 100),\n",
    "                ax=ax)\n",
    "\n",
    "sns.regplot(x=df_actors_credits['number_credits'],\n",
    "            y=df_actors_credits['number_award_wins'],\n",
    "            scatter=False,\n",
    "            color='steelblue',\n",
    "            ci=None,\n",
    "            ax=ax)\n",
    "\n",
    "sns.regplot(x=df_actors_nominations['number_award_nominations'],\n",
    "            y=df_actors_nominations['number_award_wins'],\n",
    "            scatter=False,\n",
    "            color='indianred',\n",
    "            ci=None,\n",
    "            ax=ax)\n",
    "\n",
    "plt.xlabel('Number of Credits / Nominations', fontsize=9)\n",
    "plt.ylabel('Number of Awards Won', fontsize=9)\n",
    "plt.title('Do More Credits or Nominations Lead to More Awards?',\n",
    "          fontsize=10, fontweight='bold')\n",
    "\n",
    "plt.legend(loc='upper right',\n",
    "           labelspacing=0.3,\n",
    "           fontsize=8,\n",
    "           title='Credits (blue) and Nominations (red) Size and Color',\n",
    "           title_fontsize=9,\n",
    "           markerscale=0.7,\n",
    "           handlelength=1,\n",
    "           borderpad=0.3,\n",
    "           handletextpad=0.4,\n",
    "           ncol=2)\n",
    "\n",
    "plt.grid(True, linestyle=\"--\", alpha=0.6)\n",
    "plt.xticks(fontsize=9)\n",
    "plt.yticks(fontsize=9)\n",
    "\n",
    "ax.spines['top'].set_visible(False)\n",
    "ax.spines['right'].set_visible(False)\n",
    "ax.spines['bottom'].set_color('black')\n",
    "ax.spines['left'].set_color('black')\n",
    "\n",
    "plt.show()"
   ]
  },
  {
   "cell_type": "markdown",
   "id": "a1ce6071",
   "metadata": {},
   "source": [
    "The scatterplot compares credits and nominations as predictors of award wins. The horizontal axis represents either credits or nominations, while the vertical axis shows the number of awards won. Each bubble represents an actor from a selection of 100 IMDb movies, displaying their received nominations, accrued credits, and awards won.\n",
    "\n",
    "Bubble color and size differentiate between credits (displayed in lighter shades) and nominations (in darker shades), making it easy to compare the two. Two trend lines are included: an orange line for nominations and a blue line for credits. The orange trend line has a steeper slope, highlighting that nominations are a much stronger predictor of award wins than credits. In contrast, the blue trend line is gentler, indicating that the number of credits does not predict wins as effectively. Additionally, the wider spread of credits shows more variation—some actors with many credits have few wins, while others are very successful—whereas the clustering of nominations around higher awards suggests that industry recognition through nominations plays a significant role in achieving wins.\n",
    "\n",
    "---\n",
    "\n",
    "\n",
    "\n",
    "\n",
    "\n"
   ]
  },
  {
   "cell_type": "markdown",
   "id": "a469ec60",
   "metadata": {},
   "source": [
    "### Conclusion\n",
    "---\n",
    "\n",
    "The project leveraged web scraping to collect structured data from public websites, enabling continual updates. Specifically, IMDb was scraped using BeautifulSoup—a Python library for web scraping and HTML parsing—to gather information on at least 100 movies and their corresponding actors. \n",
    "\n",
    "The analysis revealed several key insights:\n",
    "\n",
    "- ***Genre Profitability:*** The comedy genre generated the most sales despite lower budgets compared to action movies, making it the most profitable. However, ROI has decreased over the decades, potentially due to the rise of television and streaming services impacting traditional movie revenues.\n",
    "\n",
    "- ***IMDb Ratings vs. Popularity:*** A higher IMDb rating does not necessarily equate to greater popularity. Instead, it may reflect factors like storytelling quality, directorial vision, critical acclaim, cultural impact, and awards.\n",
    "\n",
    "- ***Award Predictors:*** Award nominations are a strong predictor of award wins, while the number of credits is not. This indicates that industry recognition through nominations plays a crucial role in winning awards.\n",
    "\n",
    "In summary, both datasets provided valuable insights, though the limited sample size (100 movies and 100 actors) may restrict the broader applicability of these findings due to potential selection bias, incomplete genre representation, and limited actor career data."
   ]
  },
  {
   "cell_type": "markdown",
   "id": "949d0e9e",
   "metadata": {},
   "source": []
  }
 ],
 "metadata": {
  "ExecuteTimeLog": [
   {
    "duration": 858,
    "start_time": "2025-02-09T20:15:10.633Z"
   },
   {
    "duration": 6,
    "start_time": "2025-02-09T20:15:11.493Z"
   },
   {
    "duration": 91858,
    "start_time": "2025-02-09T20:15:11.501Z"
   },
   {
    "duration": 4,
    "start_time": "2025-02-09T20:16:43.362Z"
   },
   {
    "duration": 16,
    "start_time": "2025-02-09T20:16:43.368Z"
   },
   {
    "duration": 8,
    "start_time": "2025-02-09T20:16:43.385Z"
   },
   {
    "duration": 98420,
    "start_time": "2025-02-09T20:16:43.394Z"
   },
   {
    "duration": 9,
    "start_time": "2025-02-09T20:18:21.816Z"
   },
   {
    "duration": 8,
    "start_time": "2025-02-09T20:18:21.828Z"
   },
   {
    "duration": 3,
    "start_time": "2025-02-09T20:18:21.839Z"
   },
   {
    "duration": 36,
    "start_time": "2025-02-09T20:18:21.844Z"
   },
   {
    "duration": 6,
    "start_time": "2025-02-09T20:18:21.881Z"
   },
   {
    "duration": 8,
    "start_time": "2025-02-09T20:18:21.889Z"
   },
   {
    "duration": 7,
    "start_time": "2025-02-09T20:18:21.898Z"
   },
   {
    "duration": 9,
    "start_time": "2025-02-09T20:18:21.907Z"
   },
   {
    "duration": 9,
    "start_time": "2025-02-09T20:18:21.918Z"
   },
   {
    "duration": 8,
    "start_time": "2025-02-09T20:18:21.928Z"
   },
   {
    "duration": 277,
    "start_time": "2025-02-09T20:18:21.938Z"
   },
   {
    "duration": 159,
    "start_time": "2025-02-09T20:18:22.216Z"
   },
   {
    "duration": 765,
    "start_time": "2025-02-09T20:18:22.376Z"
   },
   {
    "duration": 0,
    "start_time": "2025-02-09T20:18:23.143Z"
   },
   {
    "duration": 0,
    "start_time": "2025-02-09T20:18:23.145Z"
   },
   {
    "duration": 0,
    "start_time": "2025-02-09T20:18:23.146Z"
   },
   {
    "duration": 0,
    "start_time": "2025-02-09T20:18:23.147Z"
   },
   {
    "duration": 0,
    "start_time": "2025-02-09T20:18:23.147Z"
   },
   {
    "duration": 0,
    "start_time": "2025-02-09T20:18:23.148Z"
   },
   {
    "duration": 0,
    "start_time": "2025-02-09T20:18:23.149Z"
   },
   {
    "duration": 0,
    "start_time": "2025-02-09T20:18:23.151Z"
   },
   {
    "duration": 0,
    "start_time": "2025-02-09T20:18:23.152Z"
   },
   {
    "duration": 0,
    "start_time": "2025-02-09T20:18:23.153Z"
   },
   {
    "duration": 0,
    "start_time": "2025-02-09T20:18:23.169Z"
   },
   {
    "duration": 0,
    "start_time": "2025-02-09T20:18:23.170Z"
   },
   {
    "duration": 4,
    "start_time": "2025-02-09T20:21:26.856Z"
   },
   {
    "duration": 5,
    "start_time": "2025-02-09T20:21:40.945Z"
   },
   {
    "duration": 10,
    "start_time": "2025-02-09T20:21:40.953Z"
   },
   {
    "duration": 5,
    "start_time": "2025-02-09T20:21:40.965Z"
   },
   {
    "duration": 2,
    "start_time": "2025-02-09T20:21:40.972Z"
   },
   {
    "duration": 561,
    "start_time": "2025-02-09T20:21:40.977Z"
   },
   {
    "duration": 8,
    "start_time": "2025-02-09T20:21:41.540Z"
   },
   {
    "duration": 4,
    "start_time": "2025-02-09T20:21:41.550Z"
   },
   {
    "duration": 8,
    "start_time": "2025-02-09T20:21:41.556Z"
   },
   {
    "duration": 10,
    "start_time": "2025-02-09T20:21:41.566Z"
   },
   {
    "duration": 7,
    "start_time": "2025-02-09T20:21:41.578Z"
   },
   {
    "duration": 8,
    "start_time": "2025-02-09T20:21:41.587Z"
   },
   {
    "duration": 306,
    "start_time": "2025-02-09T20:21:41.597Z"
   },
   {
    "duration": 5,
    "start_time": "2025-02-09T20:22:05.472Z"
   },
   {
    "duration": 3,
    "start_time": "2025-02-09T20:22:10.361Z"
   },
   {
    "duration": 18,
    "start_time": "2025-02-09T20:22:42.409Z"
   },
   {
    "duration": 2617,
    "start_time": "2025-02-09T21:32:08.291Z"
   },
   {
    "duration": 7,
    "start_time": "2025-02-09T21:32:10.910Z"
   },
   {
    "duration": 95553,
    "start_time": "2025-02-09T21:32:10.920Z"
   },
   {
    "duration": 6,
    "start_time": "2025-02-09T21:33:46.475Z"
   },
   {
    "duration": 30,
    "start_time": "2025-02-09T21:33:46.483Z"
   },
   {
    "duration": 7,
    "start_time": "2025-02-09T21:33:46.514Z"
   },
   {
    "duration": 88909,
    "start_time": "2025-02-09T21:33:46.523Z"
   },
   {
    "duration": 9,
    "start_time": "2025-02-09T21:35:15.434Z"
   },
   {
    "duration": 8,
    "start_time": "2025-02-09T21:35:15.446Z"
   },
   {
    "duration": 2,
    "start_time": "2025-02-09T21:35:15.458Z"
   },
   {
    "duration": 14,
    "start_time": "2025-02-09T21:35:15.462Z"
   },
   {
    "duration": 36,
    "start_time": "2025-02-09T21:35:15.478Z"
   },
   {
    "duration": 7,
    "start_time": "2025-02-09T21:35:15.516Z"
   },
   {
    "duration": 6,
    "start_time": "2025-02-09T21:35:15.525Z"
   },
   {
    "duration": 9,
    "start_time": "2025-02-09T21:35:15.533Z"
   },
   {
    "duration": 11,
    "start_time": "2025-02-09T21:35:15.543Z"
   },
   {
    "duration": 9,
    "start_time": "2025-02-09T21:35:15.555Z"
   },
   {
    "duration": 396,
    "start_time": "2025-02-09T21:35:15.566Z"
   },
   {
    "duration": 158,
    "start_time": "2025-02-09T21:35:15.964Z"
   },
   {
    "duration": 768,
    "start_time": "2025-02-09T21:35:16.124Z"
   },
   {
    "duration": 0,
    "start_time": "2025-02-09T21:35:16.895Z"
   },
   {
    "duration": 0,
    "start_time": "2025-02-09T21:35:16.896Z"
   },
   {
    "duration": 0,
    "start_time": "2025-02-09T21:35:16.897Z"
   },
   {
    "duration": 0,
    "start_time": "2025-02-09T21:35:16.899Z"
   },
   {
    "duration": 0,
    "start_time": "2025-02-09T21:35:16.908Z"
   },
   {
    "duration": 0,
    "start_time": "2025-02-09T21:35:16.909Z"
   },
   {
    "duration": 0,
    "start_time": "2025-02-09T21:35:16.910Z"
   },
   {
    "duration": 0,
    "start_time": "2025-02-09T21:35:16.911Z"
   },
   {
    "duration": 0,
    "start_time": "2025-02-09T21:35:16.913Z"
   },
   {
    "duration": 0,
    "start_time": "2025-02-09T21:35:16.913Z"
   },
   {
    "duration": 0,
    "start_time": "2025-02-09T21:35:16.915Z"
   },
   {
    "duration": 0,
    "start_time": "2025-02-09T21:35:16.916Z"
   },
   {
    "duration": 4,
    "start_time": "2025-02-09T21:37:41.318Z"
   },
   {
    "duration": 5,
    "start_time": "2025-02-09T21:37:44.984Z"
   },
   {
    "duration": 10,
    "start_time": "2025-02-09T21:37:44.992Z"
   },
   {
    "duration": 6,
    "start_time": "2025-02-09T21:37:45.003Z"
   },
   {
    "duration": 2,
    "start_time": "2025-02-09T21:37:45.011Z"
   },
   {
    "duration": 483,
    "start_time": "2025-02-09T21:37:45.015Z"
   },
   {
    "duration": 9,
    "start_time": "2025-02-09T21:37:45.501Z"
   },
   {
    "duration": 4,
    "start_time": "2025-02-09T21:37:45.511Z"
   },
   {
    "duration": 8,
    "start_time": "2025-02-09T21:37:45.517Z"
   },
   {
    "duration": 3,
    "start_time": "2025-02-09T21:37:45.526Z"
   },
   {
    "duration": 3,
    "start_time": "2025-02-09T21:37:45.531Z"
   },
   {
    "duration": 8,
    "start_time": "2025-02-09T21:37:45.536Z"
   },
   {
    "duration": 19,
    "start_time": "2025-02-09T21:37:45.546Z"
   },
   {
    "duration": 3,
    "start_time": "2025-02-09T21:38:09.064Z"
   },
   {
    "duration": 265,
    "start_time": "2025-02-09T21:38:10.821Z"
   },
   {
    "duration": 3,
    "start_time": "2025-02-09T21:38:33.040Z"
   },
   {
    "duration": 260,
    "start_time": "2025-02-09T21:38:46.512Z"
   },
   {
    "duration": 405,
    "start_time": "2025-02-09T21:39:07.050Z"
   },
   {
    "duration": 367,
    "start_time": "2025-02-09T21:39:16.097Z"
   },
   {
    "duration": 365,
    "start_time": "2025-02-09T21:39:52.129Z"
   },
   {
    "duration": 3,
    "start_time": "2025-02-09T21:40:11.375Z"
   },
   {
    "duration": 117,
    "start_time": "2025-02-09T21:40:11.387Z"
   },
   {
    "duration": 92721,
    "start_time": "2025-02-09T21:40:11.506Z"
   },
   {
    "duration": 4,
    "start_time": "2025-02-09T21:41:44.229Z"
   },
   {
    "duration": 16,
    "start_time": "2025-02-09T21:41:44.235Z"
   },
   {
    "duration": 8,
    "start_time": "2025-02-09T21:41:44.252Z"
   },
   {
    "duration": 98302,
    "start_time": "2025-02-09T21:41:44.262Z"
   },
   {
    "duration": 10,
    "start_time": "2025-02-09T21:43:22.565Z"
   },
   {
    "duration": 8,
    "start_time": "2025-02-09T21:43:22.577Z"
   },
   {
    "duration": 23,
    "start_time": "2025-02-09T21:43:22.586Z"
   },
   {
    "duration": 15,
    "start_time": "2025-02-09T21:43:22.613Z"
   },
   {
    "duration": 8,
    "start_time": "2025-02-09T21:43:22.630Z"
   },
   {
    "duration": 7,
    "start_time": "2025-02-09T21:43:22.640Z"
   },
   {
    "duration": 6,
    "start_time": "2025-02-09T21:43:22.649Z"
   },
   {
    "duration": 9,
    "start_time": "2025-02-09T21:43:22.657Z"
   },
   {
    "duration": 4,
    "start_time": "2025-02-09T21:43:22.668Z"
   },
   {
    "duration": 44,
    "start_time": "2025-02-09T21:43:22.673Z"
   },
   {
    "duration": 233,
    "start_time": "2025-02-09T21:43:22.718Z"
   },
   {
    "duration": 159,
    "start_time": "2025-02-09T21:43:22.952Z"
   },
   {
    "duration": 165,
    "start_time": "2025-02-09T21:43:23.112Z"
   },
   {
    "duration": 0,
    "start_time": "2025-02-09T21:43:23.279Z"
   },
   {
    "duration": 0,
    "start_time": "2025-02-09T21:43:23.281Z"
   },
   {
    "duration": 0,
    "start_time": "2025-02-09T21:43:23.281Z"
   },
   {
    "duration": 0,
    "start_time": "2025-02-09T21:43:23.282Z"
   },
   {
    "duration": 0,
    "start_time": "2025-02-09T21:43:23.283Z"
   },
   {
    "duration": 0,
    "start_time": "2025-02-09T21:43:23.283Z"
   },
   {
    "duration": 0,
    "start_time": "2025-02-09T21:43:23.284Z"
   },
   {
    "duration": 0,
    "start_time": "2025-02-09T21:43:23.285Z"
   },
   {
    "duration": 0,
    "start_time": "2025-02-09T21:43:23.286Z"
   },
   {
    "duration": 0,
    "start_time": "2025-02-09T21:43:23.288Z"
   },
   {
    "duration": 0,
    "start_time": "2025-02-09T21:43:23.289Z"
   },
   {
    "duration": 0,
    "start_time": "2025-02-09T21:43:23.309Z"
   },
   {
    "duration": 0,
    "start_time": "2025-02-09T21:43:23.310Z"
   },
   {
    "duration": 0,
    "start_time": "2025-02-09T21:43:23.311Z"
   },
   {
    "duration": 5,
    "start_time": "2025-02-09T21:43:31.730Z"
   },
   {
    "duration": 4,
    "start_time": "2025-02-09T21:43:35.475Z"
   },
   {
    "duration": 11,
    "start_time": "2025-02-09T21:43:35.482Z"
   },
   {
    "duration": 6,
    "start_time": "2025-02-09T21:43:35.494Z"
   },
   {
    "duration": 2,
    "start_time": "2025-02-09T21:43:35.502Z"
   },
   {
    "duration": 444,
    "start_time": "2025-02-09T21:43:35.507Z"
   },
   {
    "duration": 9,
    "start_time": "2025-02-09T21:43:35.954Z"
   },
   {
    "duration": 5,
    "start_time": "2025-02-09T21:43:35.965Z"
   },
   {
    "duration": 8,
    "start_time": "2025-02-09T21:43:35.972Z"
   },
   {
    "duration": 4,
    "start_time": "2025-02-09T21:43:35.982Z"
   },
   {
    "duration": 3,
    "start_time": "2025-02-09T21:43:36.008Z"
   },
   {
    "duration": 9,
    "start_time": "2025-02-09T21:43:36.013Z"
   },
   {
    "duration": 287,
    "start_time": "2025-02-09T21:43:36.024Z"
   },
   {
    "duration": 255,
    "start_time": "2025-02-09T21:43:36.314Z"
   },
   {
    "duration": 390,
    "start_time": "2025-02-09T21:43:36.571Z"
   },
   {
    "duration": 353,
    "start_time": "2025-02-09T21:44:43.327Z"
   },
   {
    "duration": 508,
    "start_time": "2025-02-09T21:44:53.081Z"
   },
   {
    "duration": 375,
    "start_time": "2025-02-09T21:45:56.093Z"
   },
   {
    "duration": 380,
    "start_time": "2025-02-09T21:46:26.431Z"
   },
   {
    "duration": 7,
    "start_time": "2025-02-09T21:46:33.663Z"
   },
   {
    "duration": 361,
    "start_time": "2025-02-09T21:46:40.165Z"
   },
   {
    "duration": 362,
    "start_time": "2025-02-09T21:48:48.086Z"
   },
   {
    "duration": 351,
    "start_time": "2025-02-09T21:49:00.970Z"
   },
   {
    "duration": 355,
    "start_time": "2025-02-09T21:49:28.442Z"
   },
   {
    "duration": 383,
    "start_time": "2025-02-09T21:49:45.474Z"
   },
   {
    "duration": 229,
    "start_time": "2025-02-09T21:50:20.761Z"
   },
   {
    "duration": 235,
    "start_time": "2025-02-09T21:50:43.265Z"
   },
   {
    "duration": 6,
    "start_time": "2025-02-09T21:51:20.148Z"
   },
   {
    "duration": 5,
    "start_time": "2025-02-09T21:51:26.402Z"
   },
   {
    "duration": 270,
    "start_time": "2025-02-09T21:51:52.002Z"
   },
   {
    "duration": 258,
    "start_time": "2025-02-09T21:52:28.084Z"
   },
   {
    "duration": 251,
    "start_time": "2025-02-09T21:52:35.008Z"
   },
   {
    "duration": 258,
    "start_time": "2025-02-09T21:52:43.529Z"
   },
   {
    "duration": 232,
    "start_time": "2025-02-09T21:52:55.411Z"
   },
   {
    "duration": 264,
    "start_time": "2025-02-09T21:53:44.656Z"
   },
   {
    "duration": 229,
    "start_time": "2025-02-09T21:53:52.787Z"
   },
   {
    "duration": 499,
    "start_time": "2025-02-09T22:00:06.015Z"
   },
   {
    "duration": 358,
    "start_time": "2025-02-09T22:01:09.852Z"
   },
   {
    "duration": 353,
    "start_time": "2025-02-09T22:02:51.421Z"
   },
   {
    "duration": 354,
    "start_time": "2025-02-09T22:03:13.041Z"
   },
   {
    "duration": 351,
    "start_time": "2025-02-09T22:04:40.732Z"
   },
   {
    "duration": 358,
    "start_time": "2025-02-09T22:07:02.684Z"
   },
   {
    "duration": 10,
    "start_time": "2025-02-09T22:07:13.344Z"
   },
   {
    "duration": 363,
    "start_time": "2025-02-09T22:08:59.165Z"
   },
   {
    "duration": 373,
    "start_time": "2025-02-09T22:09:33.136Z"
   },
   {
    "duration": 358,
    "start_time": "2025-02-09T22:11:41.961Z"
   },
   {
    "duration": 368,
    "start_time": "2025-02-09T22:12:05.530Z"
   },
   {
    "duration": 406,
    "start_time": "2025-02-09T22:12:27.629Z"
   },
   {
    "duration": 364,
    "start_time": "2025-02-09T22:13:45.431Z"
   },
   {
    "duration": 373,
    "start_time": "2025-02-09T22:14:01.487Z"
   },
   {
    "duration": 357,
    "start_time": "2025-02-09T22:14:22.760Z"
   },
   {
    "duration": 360,
    "start_time": "2025-02-09T22:14:44.086Z"
   },
   {
    "duration": 507,
    "start_time": "2025-02-09T22:14:58.258Z"
   },
   {
    "duration": 387,
    "start_time": "2025-02-09T22:15:57.160Z"
   },
   {
    "duration": 374,
    "start_time": "2025-02-09T22:18:21.483Z"
   },
   {
    "duration": 372,
    "start_time": "2025-02-09T22:19:00.001Z"
   },
   {
    "duration": 258,
    "start_time": "2025-02-09T22:21:34.554Z"
   },
   {
    "duration": 252,
    "start_time": "2025-02-09T22:21:44.438Z"
   },
   {
    "duration": 227,
    "start_time": "2025-02-09T22:22:01.820Z"
   },
   {
    "duration": 384,
    "start_time": "2025-02-09T22:23:47.643Z"
   },
   {
    "duration": 365,
    "start_time": "2025-02-09T22:24:51.109Z"
   },
   {
    "duration": 391,
    "start_time": "2025-02-09T22:26:47.189Z"
   },
   {
    "duration": 351,
    "start_time": "2025-02-09T22:27:02.869Z"
   },
   {
    "duration": 369,
    "start_time": "2025-02-09T22:27:38.320Z"
   },
   {
    "duration": 179,
    "start_time": "2025-02-09T22:32:09.520Z"
   },
   {
    "duration": 156,
    "start_time": "2025-02-09T22:32:32.069Z"
   },
   {
    "duration": 2601,
    "start_time": "2025-02-10T00:47:47.968Z"
   },
   {
    "duration": 6,
    "start_time": "2025-02-10T00:47:50.571Z"
   },
   {
    "duration": 88867,
    "start_time": "2025-02-10T00:47:50.579Z"
   },
   {
    "duration": 4,
    "start_time": "2025-02-10T00:49:19.448Z"
   },
   {
    "duration": 16,
    "start_time": "2025-02-10T00:49:19.454Z"
   },
   {
    "duration": 6,
    "start_time": "2025-02-10T00:49:19.472Z"
   },
   {
    "duration": 89709,
    "start_time": "2025-02-10T00:49:19.480Z"
   },
   {
    "duration": 9,
    "start_time": "2025-02-10T00:50:49.191Z"
   },
   {
    "duration": 8,
    "start_time": "2025-02-10T00:50:49.202Z"
   },
   {
    "duration": 3,
    "start_time": "2025-02-10T00:50:49.224Z"
   },
   {
    "duration": 13,
    "start_time": "2025-02-10T00:50:49.229Z"
   },
   {
    "duration": 6,
    "start_time": "2025-02-10T00:50:49.244Z"
   },
   {
    "duration": 8,
    "start_time": "2025-02-10T00:50:49.251Z"
   },
   {
    "duration": 5,
    "start_time": "2025-02-10T00:50:49.261Z"
   },
   {
    "duration": 9,
    "start_time": "2025-02-10T00:50:49.268Z"
   },
   {
    "duration": 10,
    "start_time": "2025-02-10T00:50:49.279Z"
   },
   {
    "duration": 9,
    "start_time": "2025-02-10T00:50:49.324Z"
   },
   {
    "duration": 244,
    "start_time": "2025-02-10T00:50:49.335Z"
   },
   {
    "duration": 243,
    "start_time": "2025-02-10T00:50:49.581Z"
   },
   {
    "duration": 765,
    "start_time": "2025-02-10T00:50:49.826Z"
   },
   {
    "duration": 0,
    "start_time": "2025-02-10T00:50:50.593Z"
   },
   {
    "duration": 0,
    "start_time": "2025-02-10T00:50:50.594Z"
   },
   {
    "duration": 0,
    "start_time": "2025-02-10T00:50:50.596Z"
   },
   {
    "duration": 0,
    "start_time": "2025-02-10T00:50:50.597Z"
   },
   {
    "duration": 0,
    "start_time": "2025-02-10T00:50:50.599Z"
   },
   {
    "duration": 0,
    "start_time": "2025-02-10T00:50:50.600Z"
   },
   {
    "duration": 0,
    "start_time": "2025-02-10T00:50:50.602Z"
   },
   {
    "duration": 0,
    "start_time": "2025-02-10T00:50:50.603Z"
   },
   {
    "duration": 0,
    "start_time": "2025-02-10T00:50:50.623Z"
   },
   {
    "duration": 0,
    "start_time": "2025-02-10T00:50:50.625Z"
   },
   {
    "duration": 0,
    "start_time": "2025-02-10T00:50:50.626Z"
   },
   {
    "duration": 0,
    "start_time": "2025-02-10T00:50:50.627Z"
   },
   {
    "duration": 0,
    "start_time": "2025-02-10T00:50:50.628Z"
   },
   {
    "duration": 0,
    "start_time": "2025-02-10T00:50:50.630Z"
   },
   {
    "duration": 219,
    "start_time": "2025-02-10T00:51:46.552Z"
   },
   {
    "duration": 5,
    "start_time": "2025-02-10T00:51:52.082Z"
   },
   {
    "duration": 3,
    "start_time": "2025-02-10T00:52:00.925Z"
   },
   {
    "duration": 477,
    "start_time": "2025-02-10T00:52:00.935Z"
   },
   {
    "duration": 8,
    "start_time": "2025-02-10T00:52:01.416Z"
   },
   {
    "duration": 5,
    "start_time": "2025-02-10T00:52:01.425Z"
   },
   {
    "duration": 8,
    "start_time": "2025-02-10T00:52:01.432Z"
   },
   {
    "duration": 3,
    "start_time": "2025-02-10T00:52:01.442Z"
   },
   {
    "duration": 3,
    "start_time": "2025-02-10T00:52:01.446Z"
   },
   {
    "duration": 10,
    "start_time": "2025-02-10T00:52:01.451Z"
   },
   {
    "duration": 289,
    "start_time": "2025-02-10T00:52:01.463Z"
   },
   {
    "duration": 239,
    "start_time": "2025-02-10T00:52:01.755Z"
   },
   {
    "duration": 379,
    "start_time": "2025-02-10T00:52:01.996Z"
   },
   {
    "duration": 2710,
    "start_time": "2025-02-10T04:20:01.603Z"
   },
   {
    "duration": 6,
    "start_time": "2025-02-10T04:20:04.316Z"
   },
   {
    "duration": 69992,
    "start_time": "2025-02-10T04:20:04.324Z"
   },
   {
    "duration": 4,
    "start_time": "2025-02-10T04:21:14.319Z"
   },
   {
    "duration": 17,
    "start_time": "2025-02-10T04:21:14.325Z"
   },
   {
    "duration": 7,
    "start_time": "2025-02-10T04:21:14.343Z"
   },
   {
    "duration": 86476,
    "start_time": "2025-02-10T04:21:14.352Z"
   },
   {
    "duration": 9,
    "start_time": "2025-02-10T04:22:40.830Z"
   },
   {
    "duration": 7,
    "start_time": "2025-02-10T04:22:40.840Z"
   },
   {
    "duration": 3,
    "start_time": "2025-02-10T04:22:40.851Z"
   },
   {
    "duration": 13,
    "start_time": "2025-02-10T04:22:40.855Z"
   },
   {
    "duration": 36,
    "start_time": "2025-02-10T04:22:40.869Z"
   },
   {
    "duration": 7,
    "start_time": "2025-02-10T04:22:40.906Z"
   },
   {
    "duration": 5,
    "start_time": "2025-02-10T04:22:40.915Z"
   },
   {
    "duration": 9,
    "start_time": "2025-02-10T04:22:40.922Z"
   },
   {
    "duration": 9,
    "start_time": "2025-02-10T04:22:40.933Z"
   },
   {
    "duration": 8,
    "start_time": "2025-02-10T04:22:40.943Z"
   },
   {
    "duration": 393,
    "start_time": "2025-02-10T04:22:40.953Z"
   },
   {
    "duration": 152,
    "start_time": "2025-02-10T04:22:41.348Z"
   },
   {
    "duration": 247,
    "start_time": "2025-02-10T04:22:41.502Z"
   },
   {
    "duration": 4,
    "start_time": "2025-02-10T04:22:41.751Z"
   },
   {
    "duration": 10,
    "start_time": "2025-02-10T04:22:41.757Z"
   },
   {
    "duration": 5,
    "start_time": "2025-02-10T04:22:41.768Z"
   },
   {
    "duration": 2,
    "start_time": "2025-02-10T04:22:41.775Z"
   },
   {
    "duration": 503,
    "start_time": "2025-02-10T04:22:41.779Z"
   },
   {
    "duration": 9,
    "start_time": "2025-02-10T04:22:42.284Z"
   },
   {
    "duration": 4,
    "start_time": "2025-02-10T04:22:42.294Z"
   },
   {
    "duration": 8,
    "start_time": "2025-02-10T04:22:42.303Z"
   },
   {
    "duration": 3,
    "start_time": "2025-02-10T04:22:42.312Z"
   },
   {
    "duration": 2,
    "start_time": "2025-02-10T04:22:42.317Z"
   },
   {
    "duration": 8,
    "start_time": "2025-02-10T04:22:42.321Z"
   },
   {
    "duration": 308,
    "start_time": "2025-02-10T04:22:42.331Z"
   },
   {
    "duration": 242,
    "start_time": "2025-02-10T04:22:42.641Z"
   },
   {
    "duration": 368,
    "start_time": "2025-02-10T04:22:42.885Z"
   },
   {
    "duration": 2,
    "start_time": "2025-02-10T04:37:27.953Z"
   },
   {
    "duration": 345,
    "start_time": "2025-02-10T04:39:42.061Z"
   },
   {
    "duration": 366,
    "start_time": "2025-02-10T04:40:31.944Z"
   },
   {
    "duration": 341,
    "start_time": "2025-02-10T04:40:47.596Z"
   },
   {
    "duration": 351,
    "start_time": "2025-02-10T04:40:56.915Z"
   },
   {
    "duration": 431,
    "start_time": "2025-02-10T04:41:19.078Z"
   },
   {
    "duration": 2706,
    "start_time": "2025-02-10T07:14:45.033Z"
   },
   {
    "duration": 6,
    "start_time": "2025-02-10T07:14:47.741Z"
   },
   {
    "duration": 89973,
    "start_time": "2025-02-10T07:14:47.748Z"
   },
   {
    "duration": 5,
    "start_time": "2025-02-10T07:16:17.723Z"
   },
   {
    "duration": 18,
    "start_time": "2025-02-10T07:16:17.730Z"
   },
   {
    "duration": 23,
    "start_time": "2025-02-10T07:16:17.750Z"
   },
   {
    "duration": 103661,
    "start_time": "2025-02-10T07:16:17.775Z"
   },
   {
    "duration": 11,
    "start_time": "2025-02-10T07:18:01.438Z"
   },
   {
    "duration": 25,
    "start_time": "2025-02-10T07:18:01.451Z"
   },
   {
    "duration": 3,
    "start_time": "2025-02-10T07:18:01.481Z"
   },
   {
    "duration": 148,
    "start_time": "2025-02-10T07:18:01.486Z"
   },
   {
    "duration": 7,
    "start_time": "2025-02-10T07:18:01.635Z"
   },
   {
    "duration": 7,
    "start_time": "2025-02-10T07:18:01.644Z"
   },
   {
    "duration": 5,
    "start_time": "2025-02-10T07:18:01.671Z"
   },
   {
    "duration": 9,
    "start_time": "2025-02-10T07:18:01.679Z"
   },
   {
    "duration": 10,
    "start_time": "2025-02-10T07:18:01.689Z"
   },
   {
    "duration": 8,
    "start_time": "2025-02-10T07:18:01.701Z"
   },
   {
    "duration": 305,
    "start_time": "2025-02-10T07:18:01.710Z"
   },
   {
    "duration": 158,
    "start_time": "2025-02-10T07:18:02.016Z"
   },
   {
    "duration": 241,
    "start_time": "2025-02-10T07:18:02.177Z"
   },
   {
    "duration": 5,
    "start_time": "2025-02-10T07:18:02.420Z"
   },
   {
    "duration": 11,
    "start_time": "2025-02-10T07:18:02.426Z"
   },
   {
    "duration": 6,
    "start_time": "2025-02-10T07:18:02.439Z"
   },
   {
    "duration": 25,
    "start_time": "2025-02-10T07:18:02.446Z"
   },
   {
    "duration": 461,
    "start_time": "2025-02-10T07:18:02.473Z"
   },
   {
    "duration": 11,
    "start_time": "2025-02-10T07:18:02.937Z"
   },
   {
    "duration": 5,
    "start_time": "2025-02-10T07:18:02.950Z"
   },
   {
    "duration": 14,
    "start_time": "2025-02-10T07:18:02.959Z"
   },
   {
    "duration": 3,
    "start_time": "2025-02-10T07:18:02.975Z"
   },
   {
    "duration": 3,
    "start_time": "2025-02-10T07:18:02.980Z"
   },
   {
    "duration": 9,
    "start_time": "2025-02-10T07:18:02.984Z"
   },
   {
    "duration": 283,
    "start_time": "2025-02-10T07:18:02.996Z"
   },
   {
    "duration": 238,
    "start_time": "2025-02-10T07:18:03.281Z"
   },
   {
    "duration": 356,
    "start_time": "2025-02-10T07:18:03.521Z"
   },
   {
    "duration": 2744,
    "start_time": "2025-02-10T16:24:24.210Z"
   },
   {
    "duration": 7,
    "start_time": "2025-02-10T16:24:26.957Z"
   },
   {
    "duration": 89871,
    "start_time": "2025-02-10T16:24:26.966Z"
   },
   {
    "duration": 6,
    "start_time": "2025-02-10T16:25:56.840Z"
   },
   {
    "duration": 17,
    "start_time": "2025-02-10T16:25:56.847Z"
   },
   {
    "duration": 7,
    "start_time": "2025-02-10T16:25:56.865Z"
   },
   {
    "duration": 94682,
    "start_time": "2025-02-10T16:25:56.874Z"
   },
   {
    "duration": 10,
    "start_time": "2025-02-10T16:27:31.558Z"
   },
   {
    "duration": 10,
    "start_time": "2025-02-10T16:27:31.570Z"
   },
   {
    "duration": 5,
    "start_time": "2025-02-10T16:27:31.605Z"
   },
   {
    "duration": 15,
    "start_time": "2025-02-10T16:27:31.612Z"
   },
   {
    "duration": 8,
    "start_time": "2025-02-10T16:27:31.628Z"
   },
   {
    "duration": 8,
    "start_time": "2025-02-10T16:27:31.638Z"
   },
   {
    "duration": 7,
    "start_time": "2025-02-10T16:27:31.648Z"
   },
   {
    "duration": 9,
    "start_time": "2025-02-10T16:27:31.657Z"
   },
   {
    "duration": 45,
    "start_time": "2025-02-10T16:27:31.667Z"
   },
   {
    "duration": 10,
    "start_time": "2025-02-10T16:27:31.714Z"
   },
   {
    "duration": 245,
    "start_time": "2025-02-10T16:27:31.726Z"
   },
   {
    "duration": 321,
    "start_time": "2025-02-10T16:27:31.974Z"
   },
   {
    "duration": 253,
    "start_time": "2025-02-10T16:27:32.297Z"
   },
   {
    "duration": 5,
    "start_time": "2025-02-10T16:27:32.551Z"
   },
   {
    "duration": 10,
    "start_time": "2025-02-10T16:27:32.558Z"
   },
   {
    "duration": 5,
    "start_time": "2025-02-10T16:27:32.569Z"
   },
   {
    "duration": 2,
    "start_time": "2025-02-10T16:27:32.576Z"
   },
   {
    "duration": 529,
    "start_time": "2025-02-10T16:27:32.580Z"
   },
   {
    "duration": 11,
    "start_time": "2025-02-10T16:27:33.111Z"
   },
   {
    "duration": 4,
    "start_time": "2025-02-10T16:27:33.124Z"
   },
   {
    "duration": 8,
    "start_time": "2025-02-10T16:27:33.132Z"
   },
   {
    "duration": 4,
    "start_time": "2025-02-10T16:27:33.141Z"
   },
   {
    "duration": 3,
    "start_time": "2025-02-10T16:27:33.147Z"
   },
   {
    "duration": 9,
    "start_time": "2025-02-10T16:27:33.152Z"
   },
   {
    "duration": 297,
    "start_time": "2025-02-10T16:27:33.163Z"
   },
   {
    "duration": 246,
    "start_time": "2025-02-10T16:27:33.462Z"
   },
   {
    "duration": 386,
    "start_time": "2025-02-10T16:27:33.710Z"
   },
   {
    "duration": 1018,
    "start_time": "2025-02-10T16:37:53.314Z"
   },
   {
    "duration": 491,
    "start_time": "2025-02-10T16:38:25.131Z"
   },
   {
    "duration": 7,
    "start_time": "2025-02-10T16:38:52.552Z"
   },
   {
    "duration": 369,
    "start_time": "2025-02-10T16:39:00.506Z"
   },
   {
    "duration": 369,
    "start_time": "2025-02-10T16:42:16.407Z"
   },
   {
    "duration": 6,
    "start_time": "2025-02-10T16:42:47.382Z"
   },
   {
    "duration": 359,
    "start_time": "2025-02-10T16:42:55.652Z"
   },
   {
    "duration": 5,
    "start_time": "2025-02-10T16:47:42.076Z"
   },
   {
    "duration": 6,
    "start_time": "2025-02-10T16:50:19.624Z"
   },
   {
    "duration": 5,
    "start_time": "2025-02-10T16:50:31.816Z"
   },
   {
    "duration": 5,
    "start_time": "2025-02-10T16:58:19.136Z"
   },
   {
    "duration": 160,
    "start_time": "2025-02-10T19:52:35.080Z"
   },
   {
    "duration": 878,
    "start_time": "2025-02-10T19:53:26.763Z"
   },
   {
    "duration": 6,
    "start_time": "2025-02-10T19:53:27.643Z"
   },
   {
    "duration": 90344,
    "start_time": "2025-02-10T19:53:27.651Z"
   },
   {
    "duration": 4,
    "start_time": "2025-02-10T19:54:57.997Z"
   },
   {
    "duration": 18,
    "start_time": "2025-02-10T19:54:58.003Z"
   },
   {
    "duration": 9,
    "start_time": "2025-02-10T19:54:58.022Z"
   },
   {
    "duration": 103994,
    "start_time": "2025-02-10T19:54:58.032Z"
   },
   {
    "duration": 10,
    "start_time": "2025-02-10T19:56:42.027Z"
   },
   {
    "duration": 8,
    "start_time": "2025-02-10T19:56:42.039Z"
   },
   {
    "duration": 2,
    "start_time": "2025-02-10T19:56:42.051Z"
   },
   {
    "duration": 13,
    "start_time": "2025-02-10T19:56:42.055Z"
   },
   {
    "duration": 7,
    "start_time": "2025-02-10T19:56:42.069Z"
   },
   {
    "duration": 7,
    "start_time": "2025-02-10T19:56:42.106Z"
   },
   {
    "duration": 6,
    "start_time": "2025-02-10T19:56:42.114Z"
   },
   {
    "duration": 8,
    "start_time": "2025-02-10T19:56:42.122Z"
   },
   {
    "duration": 9,
    "start_time": "2025-02-10T19:56:42.132Z"
   },
   {
    "duration": 8,
    "start_time": "2025-02-10T19:56:42.142Z"
   },
   {
    "duration": 7,
    "start_time": "2025-02-10T19:56:42.152Z"
   },
   {
    "duration": 5,
    "start_time": "2025-02-10T19:56:42.160Z"
   },
   {
    "duration": 42,
    "start_time": "2025-02-10T19:56:42.166Z"
   },
   {
    "duration": 9,
    "start_time": "2025-02-10T19:56:42.210Z"
   },
   {
    "duration": 5,
    "start_time": "2025-02-10T19:56:42.221Z"
   },
   {
    "duration": 7,
    "start_time": "2025-02-10T19:56:42.227Z"
   },
   {
    "duration": 7,
    "start_time": "2025-02-10T19:56:42.236Z"
   },
   {
    "duration": 6,
    "start_time": "2025-02-10T19:56:42.244Z"
   },
   {
    "duration": 295,
    "start_time": "2025-02-10T19:56:42.252Z"
   },
   {
    "duration": 183,
    "start_time": "2025-02-10T19:56:42.549Z"
   },
   {
    "duration": 221,
    "start_time": "2025-02-10T19:56:42.736Z"
   },
   {
    "duration": 4,
    "start_time": "2025-02-10T19:56:42.959Z"
   },
   {
    "duration": 10,
    "start_time": "2025-02-10T19:56:42.965Z"
   },
   {
    "duration": 6,
    "start_time": "2025-02-10T19:56:42.976Z"
   },
   {
    "duration": 3,
    "start_time": "2025-02-10T19:56:43.005Z"
   },
   {
    "duration": 447,
    "start_time": "2025-02-10T19:56:43.010Z"
   },
   {
    "duration": 272,
    "start_time": "2025-02-10T19:56:43.459Z"
   },
   {
    "duration": 336,
    "start_time": "2025-02-10T19:56:43.733Z"
   },
   {
    "duration": 366,
    "start_time": "2025-02-10T19:56:44.071Z"
   }
  ],
  "kernelspec": {
   "display_name": "Python 3",
   "language": "python",
   "name": "python3"
  },
  "language_info": {
   "codemirror_mode": {
    "name": "ipython",
    "version": 3
   },
   "file_extension": ".py",
   "mimetype": "text/x-python",
   "name": "python",
   "nbconvert_exporter": "python",
   "pygments_lexer": "ipython3",
   "version": "3.13.1"
  },
  "toc": {
   "base_numbering": 1,
   "nav_menu": {},
   "number_sections": true,
   "sideBar": true,
   "skip_h1_title": true,
   "title_cell": "Table of Contents",
   "title_sidebar": "Contents",
   "toc_cell": false,
   "toc_position": {},
   "toc_section_display": true,
   "toc_window_display": false
  }
 },
 "nbformat": 4,
 "nbformat_minor": 5
}
